{
 "cells": [
  {
   "cell_type": "code",
   "execution_count": 3,
   "id": "8e8eaa41",
   "metadata": {},
   "outputs": [
    {
     "name": "stdout",
     "output_type": "stream",
     "text": [
      "6\n",
      "4\n",
      "16\n"
     ]
    }
   ],
   "source": [
    "newList= [15,6,9,19,4,5,7,16]\n",
    "for i in newList : \n",
    "    if i%2 == 0 : \n",
    "        print(i)"
   ]
  },
  {
   "cell_type": "code",
   "execution_count": 4,
   "id": "3bed1e7f",
   "metadata": {},
   "outputs": [],
   "source": [
    "mydic = {\"fly\" : 15, \"bench\": 10 , \"row\" :8}"
   ]
  },
  {
   "cell_type": "code",
   "execution_count": 12,
   "id": "9c8df0e7",
   "metadata": {},
   "outputs": [
    {
     "name": "stdout",
     "output_type": "stream",
     "text": [
      "15\n",
      "10\n",
      "8\n"
     ]
    }
   ],
   "source": [
    "for (x,y) in mydic.items():\n",
    "    print(y)"
   ]
  },
  {
   "cell_type": "code",
   "execution_count": 12,
   "id": "5dec1c3f",
   "metadata": {},
   "outputs": [
    {
     "name": "stdout",
     "output_type": "stream",
     "text": [
      "enter the number : 13\n",
      "2\n",
      "4\n",
      "6\n",
      "8\n",
      "10\n",
      "12\n"
     ]
    }
   ],
   "source": [
    "k = int(input(\"enter the number : \"))\n",
    "for i in range(k) : \n",
    "    i = i+1\n",
    "    if i%2 == 0:\n",
    "        \n",
    "        print(i)"
   ]
  },
  {
   "cell_type": "code",
   "execution_count": 15,
   "id": "19885ce4",
   "metadata": {},
   "outputs": [
    {
     "name": "stdout",
     "output_type": "stream",
     "text": [
      "sum list of number  77\n",
      "3\n",
      "9\n",
      "12\n",
      "21\n"
     ]
    }
   ],
   "source": [
    "number = [1,3,5,7,9,12,19,21]\n",
    "a=sum(number)\n",
    "print(\"sum list of number :\", a)\n",
    "for i in number :\n",
    "    if i%3 == 0 :\n",
    "        print(i)"
   ]
  },
  {
   "cell_type": "markdown",
   "id": "fc3a14a0",
   "metadata": {},
   "source": [
    "# WHİLE DÖNGÜSÜ"
   ]
  },
  {
   "cell_type": "code",
   "execution_count": 20,
   "id": "67bd6244",
   "metadata": {},
   "outputs": [
    {
     "name": "stdout",
     "output_type": "stream",
     "text": [
      "0\n",
      "1\n",
      "2\n",
      "3\n",
      "4\n",
      "5\n",
      "6\n",
      "7\n",
      "8\n",
      "9\n"
     ]
    }
   ],
   "source": [
    "\n",
    "x=0\n",
    "while x<10 : \n",
    "    print(x)\n",
    "    x = x+1\n"
   ]
  },
  {
   "cell_type": "code",
   "execution_count": 22,
   "id": "39198ef0",
   "metadata": {},
   "outputs": [],
   "source": [
    "list1 = [1,2,3,4,5]\n",
    "while 3 in list1 : \n",
    "    if 3 in list1 :\n",
    "        break \n",
    "    print(\"3 hala listede\")\n",
    "    list1.pop()"
   ]
  },
  {
   "cell_type": "markdown",
   "id": "ac135832",
   "metadata": {},
   "source": [
    ": Kullanıcıdan alacağınız sınırsız ürün bilgisini urunler listesi içinde saklayınız.\n",
    "\n",
    "   ** ürün sayısını kullanıcıya sorun.\n",
    "\n",
    "   ** dictionary listesi yapısı (name, price) şeklinde olsun.\n",
    "\n",
    "   ** ürün ekleme işlemi bittiğinde ürünleri ekranda while ile listeleyin."
   ]
  },
  {
   "cell_type": "code",
   "execution_count": 2,
   "id": "5113ae6d",
   "metadata": {},
   "outputs": [
    {
     "name": "stdout",
     "output_type": "stream",
     "text": [
      "how much you want  append product?2\n",
      "product name : elma\n",
      "product price : 6\n",
      "product name : armut\n",
      "product price : 3\n"
     ]
    },
    {
     "ename": "KeyError",
     "evalue": "'price'",
     "output_type": "error",
     "traceback": [
      "\u001b[1;31m---------------------------------------------------------------------------\u001b[0m",
      "\u001b[1;31mKeyError\u001b[0m                                  Traceback (most recent call last)",
      "\u001b[1;32m~\\AppData\\Local\\Temp/ipykernel_9828/1631753765.py\u001b[0m in \u001b[0;36m<module>\u001b[1;34m\u001b[0m\n\u001b[0;32m     10\u001b[0m \u001b[1;33m\u001b[0m\u001b[0m\n\u001b[0;32m     11\u001b[0m \u001b[1;32mfor\u001b[0m \u001b[0murun\u001b[0m \u001b[1;32min\u001b[0m \u001b[0murunler\u001b[0m\u001b[1;33m:\u001b[0m\u001b[1;33m\u001b[0m\u001b[1;33m\u001b[0m\u001b[0m\n\u001b[1;32m---> 12\u001b[1;33m     \u001b[0mprint\u001b[0m\u001b[1;33m(\u001b[0m\u001b[1;34mf'ürün adı: {urun[\"name\"]} ürün fiyatı: {urun[\"price\"]}'\u001b[0m\u001b[1;33m)\u001b[0m\u001b[1;33m\u001b[0m\u001b[1;33m\u001b[0m\u001b[0m\n\u001b[0m",
      "\u001b[1;31mKeyError\u001b[0m: 'price'"
     ]
    }
   ],
   "source": [
    "urunler =list()\n",
    "quantity = int(input(\"how much you want  append product?\"))\n",
    "i= 0 \n",
    "\n",
    "while i<quantity :\n",
    "    name = input(\"product name : \")\n",
    "    price = input(\"product price : \")\n",
    "    urunler.append({\"name\" : name , \"price \" : price}) \n",
    "    i=i+1\n",
    "    \n",
    "for urun in urunler:\n",
    "    print(f'ürün adı: {urun[\"name\"]} ürün fiyatı: {urun[\"price\"]}')"
   ]
  },
  {
   "cell_type": "code",
   "execution_count": null,
   "id": "006ea8c2",
   "metadata": {},
   "outputs": [],
   "source": []
  }
 ],
 "metadata": {
  "kernelspec": {
   "display_name": "Python 3 (ipykernel)",
   "language": "python",
   "name": "python3"
  },
  "language_info": {
   "codemirror_mode": {
    "name": "ipython",
    "version": 3
   },
   "file_extension": ".py",
   "mimetype": "text/x-python",
   "name": "python",
   "nbconvert_exporter": "python",
   "pygments_lexer": "ipython3",
   "version": "3.9.7"
  }
 },
 "nbformat": 4,
 "nbformat_minor": 5
}
