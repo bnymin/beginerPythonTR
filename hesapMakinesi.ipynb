{
 "cells": [
  {
   "cell_type": "code",
   "execution_count": 2,
   "id": "a37a56de",
   "metadata": {},
   "outputs": [
    {
     "name": "stdout",
     "output_type": "stream",
     "text": [
      "bunyaamin\n"
     ]
    }
   ],
   "source": [
    "benimAdım =\"bunyaamin\"\n",
    "def myfunc():\n",
    "    print(benimAdım)\n",
    "myfunc()"
   ]
  },
  {
   "cell_type": "code",
   "execution_count": 10,
   "id": "c398fd4b",
   "metadata": {},
   "outputs": [
    {
     "name": "stdout",
     "output_type": "stream",
     "text": [
      "number one :5\n",
      "number two :6\n",
      "for sum press'+'  \n",
      " for multiplication press '*' \n",
      "for diffrance press '-' \n",
      "for Partition press '/'+\n"
     ]
    },
    {
     "ename": "TypeError",
     "evalue": "hesapMakinesi() missing 3 required positional arguments: 'num1', 'num2', and 'islem'",
     "output_type": "error",
     "traceback": [
      "\u001b[1;31m---------------------------------------------------------------------------\u001b[0m",
      "\u001b[1;31mTypeError\u001b[0m                                 Traceback (most recent call last)",
      "\u001b[1;32m~\\AppData\\Local\\Temp/ipykernel_12220/3365990676.py\u001b[0m in \u001b[0;36m<module>\u001b[1;34m\u001b[0m\n\u001b[0;32m      9\u001b[0m \u001b[1;33m\u001b[0m\u001b[0m\n\u001b[0;32m     10\u001b[0m \u001b[1;33m\u001b[0m\u001b[0m\n\u001b[1;32m---> 11\u001b[1;33m \u001b[0mhesapMakinesi\u001b[0m\u001b[1;33m(\u001b[0m\u001b[1;33m)\u001b[0m\u001b[1;33m\u001b[0m\u001b[1;33m\u001b[0m\u001b[0m\n\u001b[0m",
      "\u001b[1;31mTypeError\u001b[0m: hesapMakinesi() missing 3 required positional arguments: 'num1', 'num2', and 'islem'"
     ]
    }
   ],
   "source": [
    "def hesapMakinesi(num1,num2,islem):\n",
    "    if islem == \"+\" :\n",
    "        result = num1+num2\n",
    "        a=print(f'{num1}+{num2}={result} ')\n",
    "        return \n",
    "num1 =int(input(\"number one :\"))\n",
    "num2 =int(input(\"number two :\"))\n",
    "islem = input(\"işlemi seçiniz + - * / \")\n",
    "\n",
    "\n",
    "hesapMakinesi()"
   ]
  },
  {
   "cell_type": "code",
   "execution_count": null,
   "id": "dbcf5f0b",
   "metadata": {},
   "outputs": [],
   "source": []
  }
 ],
 "metadata": {
  "kernelspec": {
   "display_name": "Python 3 (ipykernel)",
   "language": "python",
   "name": "python3"
  },
  "language_info": {
   "codemirror_mode": {
    "name": "ipython",
    "version": 3
   },
   "file_extension": ".py",
   "mimetype": "text/x-python",
   "name": "python",
   "nbconvert_exporter": "python",
   "pygments_lexer": "ipython3",
   "version": "3.9.7"
  }
 },
 "nbformat": 4,
 "nbformat_minor": 5
}
