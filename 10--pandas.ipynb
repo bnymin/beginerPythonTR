{
 "cells": [
  {
   "cell_type": "code",
   "execution_count": 2,
   "id": "35637f58",
   "metadata": {},
   "outputs": [],
   "source": [
    "import pandas as pd\n",
    "import numpy as np"
   ]
  },
  {
   "cell_type": "markdown",
   "id": "4c45c699",
   "metadata": {},
   "source": [
    "# SERİSES"
   ]
  },
  {
   "cell_type": "code",
   "execution_count": 5,
   "id": "d54ba472",
   "metadata": {},
   "outputs": [],
   "source": [
    "myDic = {\"benj\" : 23 , \"kemal\" : 60 ,\"tarık \": 35}"
   ]
  },
  {
   "cell_type": "code",
   "execution_count": 6,
   "id": "6c142216",
   "metadata": {},
   "outputs": [
    {
     "data": {
      "text/plain": [
       "benj      23\n",
       "kemal     60\n",
       "tarık     35\n",
       "dtype: int64"
      ]
     },
     "execution_count": 6,
     "metadata": {},
     "output_type": "execute_result"
    }
   ],
   "source": [
    "pd.Series(myDic)"
   ]
  },
  {
   "cell_type": "code",
   "execution_count": 32,
   "id": "7612c576",
   "metadata": {},
   "outputs": [],
   "source": [
    "myList = list(np.random.randint(0,25,8))"
   ]
  },
  {
   "cell_type": "code",
   "execution_count": 33,
   "id": "8646f16c",
   "metadata": {},
   "outputs": [
    {
     "data": {
      "text/plain": [
       "0    20\n",
       "1    24\n",
       "2    13\n",
       "3    11\n",
       "4    19\n",
       "5    22\n",
       "6    13\n",
       "7    16\n",
       "dtype: int32"
      ]
     },
     "execution_count": 33,
     "metadata": {},
     "output_type": "execute_result"
    }
   ],
   "source": [
    "pd.Series(myList)"
   ]
  },
  {
   "cell_type": "code",
   "execution_count": 34,
   "id": "a5aa772f",
   "metadata": {},
   "outputs": [],
   "source": [
    "npDizi = np.array(myList)"
   ]
  },
  {
   "cell_type": "code",
   "execution_count": 35,
   "id": "2db56f35",
   "metadata": {},
   "outputs": [
    {
     "data": {
      "text/plain": [
       "array([20, 24, 13, 11, 19, 22, 13, 16])"
      ]
     },
     "execution_count": 35,
     "metadata": {},
     "output_type": "execute_result"
    }
   ],
   "source": [
    "npDizi\n"
   ]
  },
  {
   "cell_type": "code",
   "execution_count": 37,
   "id": "6b39f045",
   "metadata": {},
   "outputs": [
    {
     "data": {
      "text/plain": [
       "0    20\n",
       "1    24\n",
       "2    13\n",
       "3    11\n",
       "4    19\n",
       "5    22\n",
       "6    13\n",
       "7    16\n",
       "dtype: int32"
      ]
     },
     "execution_count": 37,
     "metadata": {},
     "output_type": "execute_result"
    }
   ],
   "source": [
    "pd.Series(npDizi)"
   ]
  },
  {
   "cell_type": "code",
   "execution_count": 38,
   "id": "06009fde",
   "metadata": {},
   "outputs": [],
   "source": [
    "a1 = pd.Series(index=[\"ali\",\"kemal\",\"fatma\"],data = [10,20,50])"
   ]
  },
  {
   "cell_type": "code",
   "execution_count": 45,
   "id": "8cb4e258",
   "metadata": {},
   "outputs": [],
   "source": [
    "a2 = pd.Series(index=[\"ali\",\"kemal\",\"fatma\",\"murat\"] , data = [20,30,10,100])"
   ]
  },
  {
   "cell_type": "code",
   "execution_count": 46,
   "id": "30b7bd3d",
   "metadata": {},
   "outputs": [],
   "source": [
    "result = a1 + a2"
   ]
  },
  {
   "cell_type": "code",
   "execution_count": 47,
   "id": "4d1d465a",
   "metadata": {},
   "outputs": [
    {
     "data": {
      "text/plain": [
       "ali      30.0\n",
       "fatma    60.0\n",
       "kema      NaN\n",
       "kemal     NaN\n",
       "murat     NaN\n",
       "dtype: float64"
      ]
     },
     "execution_count": 47,
     "metadata": {},
     "output_type": "execute_result"
    }
   ],
   "source": [
    "result\n"
   ]
  },
  {
   "cell_type": "markdown",
   "id": "3a22a120",
   "metadata": {},
   "source": [
    "# dataframe"
   ]
  },
  {
   "cell_type": "code",
   "execution_count": null,
   "id": "da9797c8",
   "metadata": {},
   "outputs": [],
   "source": []
  },
  {
   "cell_type": "code",
   "execution_count": null,
   "id": "048771c8",
   "metadata": {},
   "outputs": [],
   "source": []
  },
  {
   "cell_type": "code",
   "execution_count": 81,
   "id": "8143df68",
   "metadata": {},
   "outputs": [],
   "source": [
    "data = np.random.randn(4,3)"
   ]
  },
  {
   "cell_type": "code",
   "execution_count": 82,
   "id": "acbf9b06",
   "metadata": {},
   "outputs": [
    {
     "data": {
      "text/plain": [
       "array([[-1.14188905,  2.16613868,  0.83194637],\n",
       "       [-0.75641991, -1.46302914, -2.16569898],\n",
       "       [ 0.50982999, -0.98259541, -0.02364913],\n",
       "       [-1.84752117, -0.06198269, -0.5692702 ]])"
      ]
     },
     "execution_count": 82,
     "metadata": {},
     "output_type": "execute_result"
    }
   ],
   "source": [
    "data"
   ]
  },
  {
   "cell_type": "code",
   "execution_count": 85,
   "id": "e2c61cc3",
   "metadata": {},
   "outputs": [],
   "source": [
    "dataFrame = pd.DataFrame(data)"
   ]
  },
  {
   "cell_type": "code",
   "execution_count": 86,
   "id": "91945769",
   "metadata": {},
   "outputs": [
    {
     "data": {
      "text/html": [
       "<div>\n",
       "<style scoped>\n",
       "    .dataframe tbody tr th:only-of-type {\n",
       "        vertical-align: middle;\n",
       "    }\n",
       "\n",
       "    .dataframe tbody tr th {\n",
       "        vertical-align: top;\n",
       "    }\n",
       "\n",
       "    .dataframe thead th {\n",
       "        text-align: right;\n",
       "    }\n",
       "</style>\n",
       "<table border=\"1\" class=\"dataframe\">\n",
       "  <thead>\n",
       "    <tr style=\"text-align: right;\">\n",
       "      <th></th>\n",
       "      <th>0</th>\n",
       "      <th>1</th>\n",
       "      <th>2</th>\n",
       "    </tr>\n",
       "  </thead>\n",
       "  <tbody>\n",
       "    <tr>\n",
       "      <th>0</th>\n",
       "      <td>-1.141889</td>\n",
       "      <td>2.166139</td>\n",
       "      <td>0.831946</td>\n",
       "    </tr>\n",
       "    <tr>\n",
       "      <th>1</th>\n",
       "      <td>-0.756420</td>\n",
       "      <td>-1.463029</td>\n",
       "      <td>-2.165699</td>\n",
       "    </tr>\n",
       "    <tr>\n",
       "      <th>2</th>\n",
       "      <td>0.509830</td>\n",
       "      <td>-0.982595</td>\n",
       "      <td>-0.023649</td>\n",
       "    </tr>\n",
       "    <tr>\n",
       "      <th>3</th>\n",
       "      <td>-1.847521</td>\n",
       "      <td>-0.061983</td>\n",
       "      <td>-0.569270</td>\n",
       "    </tr>\n",
       "  </tbody>\n",
       "</table>\n",
       "</div>"
      ],
      "text/plain": [
       "          0         1         2\n",
       "0 -1.141889  2.166139  0.831946\n",
       "1 -0.756420 -1.463029 -2.165699\n",
       "2  0.509830 -0.982595 -0.023649\n",
       "3 -1.847521 -0.061983 -0.569270"
      ]
     },
     "execution_count": 86,
     "metadata": {},
     "output_type": "execute_result"
    }
   ],
   "source": [
    "dataFrame"
   ]
  },
  {
   "cell_type": "code",
   "execution_count": 95,
   "id": "6869dcf6",
   "metadata": {},
   "outputs": [],
   "source": [
    "newDataFrame = pd.DataFrame(data,index=[\"ali\",\"kemal\",\"necip\",\"ben\"],columns =[\"maas\",\"yas\",\"ayakkabı numarası\"] )"
   ]
  },
  {
   "cell_type": "code",
   "execution_count": 99,
   "id": "6c7376f1",
   "metadata": {},
   "outputs": [
    {
     "data": {
      "text/html": [
       "<div>\n",
       "<style scoped>\n",
       "    .dataframe tbody tr th:only-of-type {\n",
       "        vertical-align: middle;\n",
       "    }\n",
       "\n",
       "    .dataframe tbody tr th {\n",
       "        vertical-align: top;\n",
       "    }\n",
       "\n",
       "    .dataframe thead th {\n",
       "        text-align: right;\n",
       "    }\n",
       "</style>\n",
       "<table border=\"1\" class=\"dataframe\">\n",
       "  <thead>\n",
       "    <tr style=\"text-align: right;\">\n",
       "      <th></th>\n",
       "      <th>maas</th>\n",
       "      <th>yas</th>\n",
       "      <th>ayakkabı numarası</th>\n",
       "    </tr>\n",
       "  </thead>\n",
       "  <tbody>\n",
       "    <tr>\n",
       "      <th>ali</th>\n",
       "      <td>-1.141889</td>\n",
       "      <td>2.166139</td>\n",
       "      <td>0.831946</td>\n",
       "    </tr>\n",
       "    <tr>\n",
       "      <th>kemal</th>\n",
       "      <td>-0.756420</td>\n",
       "      <td>-1.463029</td>\n",
       "      <td>-2.165699</td>\n",
       "    </tr>\n",
       "    <tr>\n",
       "      <th>necip</th>\n",
       "      <td>0.509830</td>\n",
       "      <td>-0.982595</td>\n",
       "      <td>-0.023649</td>\n",
       "    </tr>\n",
       "    <tr>\n",
       "      <th>ben</th>\n",
       "      <td>-1.847521</td>\n",
       "      <td>-0.061983</td>\n",
       "      <td>-0.569270</td>\n",
       "    </tr>\n",
       "  </tbody>\n",
       "</table>\n",
       "</div>"
      ],
      "text/plain": [
       "           maas       yas  ayakkabı numarası\n",
       "ali   -1.141889  2.166139           0.831946\n",
       "kemal -0.756420 -1.463029          -2.165699\n",
       "necip  0.509830 -0.982595          -0.023649\n",
       "ben   -1.847521 -0.061983          -0.569270"
      ]
     },
     "execution_count": 99,
     "metadata": {},
     "output_type": "execute_result"
    }
   ],
   "source": [
    "newDataFrame"
   ]
  },
  {
   "cell_type": "code",
   "execution_count": 104,
   "id": "2fcdc9db",
   "metadata": {},
   "outputs": [
    {
     "data": {
      "text/html": [
       "<div>\n",
       "<style scoped>\n",
       "    .dataframe tbody tr th:only-of-type {\n",
       "        vertical-align: middle;\n",
       "    }\n",
       "\n",
       "    .dataframe tbody tr th {\n",
       "        vertical-align: top;\n",
       "    }\n",
       "\n",
       "    .dataframe thead th {\n",
       "        text-align: right;\n",
       "    }\n",
       "</style>\n",
       "<table border=\"1\" class=\"dataframe\">\n",
       "  <thead>\n",
       "    <tr style=\"text-align: right;\">\n",
       "      <th></th>\n",
       "      <th>maas</th>\n",
       "      <th>yas</th>\n",
       "    </tr>\n",
       "  </thead>\n",
       "  <tbody>\n",
       "    <tr>\n",
       "      <th>ali</th>\n",
       "      <td>-1.141889</td>\n",
       "      <td>2.166139</td>\n",
       "    </tr>\n",
       "    <tr>\n",
       "      <th>kemal</th>\n",
       "      <td>-0.756420</td>\n",
       "      <td>-1.463029</td>\n",
       "    </tr>\n",
       "    <tr>\n",
       "      <th>necip</th>\n",
       "      <td>0.509830</td>\n",
       "      <td>-0.982595</td>\n",
       "    </tr>\n",
       "    <tr>\n",
       "      <th>ben</th>\n",
       "      <td>-1.847521</td>\n",
       "      <td>-0.061983</td>\n",
       "    </tr>\n",
       "  </tbody>\n",
       "</table>\n",
       "</div>"
      ],
      "text/plain": [
       "           maas       yas\n",
       "ali   -1.141889  2.166139\n",
       "kemal -0.756420 -1.463029\n",
       "necip  0.509830 -0.982595\n",
       "ben   -1.847521 -0.061983"
      ]
     },
     "execution_count": 104,
     "metadata": {},
     "output_type": "execute_result"
    }
   ],
   "source": [
    "newDataFrame[[\"maas\",\"yas\"]]"
   ]
  },
  {
   "cell_type": "code",
   "execution_count": 105,
   "id": "f952c699",
   "metadata": {
    "scrolled": true
   },
   "outputs": [
    {
     "data": {
      "text/plain": [
       "maas                -1.141889\n",
       "yas                  2.166139\n",
       "ayakkabı numarası    0.831946\n",
       "Name: ali, dtype: float64"
      ]
     },
     "execution_count": 105,
     "metadata": {},
     "output_type": "execute_result"
    }
   ],
   "source": [
    "newDataFrame.loc[\"ali\"]"
   ]
  },
  {
   "cell_type": "code",
   "execution_count": 109,
   "id": "459d42c2",
   "metadata": {},
   "outputs": [],
   "source": [
    "myList0 =[0.64165,0.54949,0.51981,0.9864]"
   ]
  },
  {
   "cell_type": "code",
   "execution_count": 110,
   "id": "f34974db",
   "metadata": {},
   "outputs": [],
   "source": [
    "newDataFrame[\"belCevresi\"]=myList0"
   ]
  },
  {
   "cell_type": "code",
   "execution_count": 111,
   "id": "9db005f8",
   "metadata": {},
   "outputs": [
    {
     "data": {
      "text/html": [
       "<div>\n",
       "<style scoped>\n",
       "    .dataframe tbody tr th:only-of-type {\n",
       "        vertical-align: middle;\n",
       "    }\n",
       "\n",
       "    .dataframe tbody tr th {\n",
       "        vertical-align: top;\n",
       "    }\n",
       "\n",
       "    .dataframe thead th {\n",
       "        text-align: right;\n",
       "    }\n",
       "</style>\n",
       "<table border=\"1\" class=\"dataframe\">\n",
       "  <thead>\n",
       "    <tr style=\"text-align: right;\">\n",
       "      <th></th>\n",
       "      <th>maas</th>\n",
       "      <th>yas</th>\n",
       "      <th>ayakkabı numarası</th>\n",
       "      <th>belCevresi</th>\n",
       "    </tr>\n",
       "  </thead>\n",
       "  <tbody>\n",
       "    <tr>\n",
       "      <th>ali</th>\n",
       "      <td>-1.141889</td>\n",
       "      <td>2.166139</td>\n",
       "      <td>0.831946</td>\n",
       "      <td>0.64165</td>\n",
       "    </tr>\n",
       "    <tr>\n",
       "      <th>kemal</th>\n",
       "      <td>-0.756420</td>\n",
       "      <td>-1.463029</td>\n",
       "      <td>-2.165699</td>\n",
       "      <td>0.54949</td>\n",
       "    </tr>\n",
       "    <tr>\n",
       "      <th>necip</th>\n",
       "      <td>0.509830</td>\n",
       "      <td>-0.982595</td>\n",
       "      <td>-0.023649</td>\n",
       "      <td>0.51981</td>\n",
       "    </tr>\n",
       "    <tr>\n",
       "      <th>ben</th>\n",
       "      <td>-1.847521</td>\n",
       "      <td>-0.061983</td>\n",
       "      <td>-0.569270</td>\n",
       "      <td>0.98640</td>\n",
       "    </tr>\n",
       "  </tbody>\n",
       "</table>\n",
       "</div>"
      ],
      "text/plain": [
       "           maas       yas  ayakkabı numarası  belCevresi\n",
       "ali   -1.141889  2.166139           0.831946     0.64165\n",
       "kemal -0.756420 -1.463029          -2.165699     0.54949\n",
       "necip  0.509830 -0.982595          -0.023649     0.51981\n",
       "ben   -1.847521 -0.061983          -0.569270     0.98640"
      ]
     },
     "execution_count": 111,
     "metadata": {},
     "output_type": "execute_result"
    }
   ],
   "source": [
    "newDataFrame"
   ]
  },
  {
   "cell_type": "code",
   "execution_count": 115,
   "id": "4a541311",
   "metadata": {},
   "outputs": [],
   "source": [
    "newDataFrame.drop(\"ayakkabı numarası\",axis = 1 ,inplace = True)"
   ]
  },
  {
   "cell_type": "code",
   "execution_count": 116,
   "id": "1766ec5e",
   "metadata": {},
   "outputs": [
    {
     "data": {
      "text/html": [
       "<div>\n",
       "<style scoped>\n",
       "    .dataframe tbody tr th:only-of-type {\n",
       "        vertical-align: middle;\n",
       "    }\n",
       "\n",
       "    .dataframe tbody tr th {\n",
       "        vertical-align: top;\n",
       "    }\n",
       "\n",
       "    .dataframe thead th {\n",
       "        text-align: right;\n",
       "    }\n",
       "</style>\n",
       "<table border=\"1\" class=\"dataframe\">\n",
       "  <thead>\n",
       "    <tr style=\"text-align: right;\">\n",
       "      <th></th>\n",
       "      <th>maas</th>\n",
       "      <th>yas</th>\n",
       "      <th>belCevresi</th>\n",
       "    </tr>\n",
       "  </thead>\n",
       "  <tbody>\n",
       "    <tr>\n",
       "      <th>ali</th>\n",
       "      <td>-1.141889</td>\n",
       "      <td>2.166139</td>\n",
       "      <td>0.64165</td>\n",
       "    </tr>\n",
       "    <tr>\n",
       "      <th>kemal</th>\n",
       "      <td>-0.756420</td>\n",
       "      <td>-1.463029</td>\n",
       "      <td>0.54949</td>\n",
       "    </tr>\n",
       "    <tr>\n",
       "      <th>necip</th>\n",
       "      <td>0.509830</td>\n",
       "      <td>-0.982595</td>\n",
       "      <td>0.51981</td>\n",
       "    </tr>\n",
       "    <tr>\n",
       "      <th>ben</th>\n",
       "      <td>-1.847521</td>\n",
       "      <td>-0.061983</td>\n",
       "      <td>0.98640</td>\n",
       "    </tr>\n",
       "  </tbody>\n",
       "</table>\n",
       "</div>"
      ],
      "text/plain": [
       "           maas       yas  belCevresi\n",
       "ali   -1.141889  2.166139     0.64165\n",
       "kemal -0.756420 -1.463029     0.54949\n",
       "necip  0.509830 -0.982595     0.51981\n",
       "ben   -1.847521 -0.061983     0.98640"
      ]
     },
     "execution_count": 116,
     "metadata": {},
     "output_type": "execute_result"
    }
   ],
   "source": [
    "newDataFrame"
   ]
  },
  {
   "cell_type": "code",
   "execution_count": 117,
   "id": "716efb75",
   "metadata": {},
   "outputs": [
    {
     "data": {
      "text/plain": [
       "2.166138675393653"
      ]
     },
     "execution_count": 117,
     "metadata": {},
     "output_type": "execute_result"
    }
   ],
   "source": [
    "newDataFrame.loc[\"ali\"][\"yas\"]"
   ]
  },
  {
   "cell_type": "code",
   "execution_count": 121,
   "id": "846e3633",
   "metadata": {},
   "outputs": [
    {
     "data": {
      "text/html": [
       "<div>\n",
       "<style scoped>\n",
       "    .dataframe tbody tr th:only-of-type {\n",
       "        vertical-align: middle;\n",
       "    }\n",
       "\n",
       "    .dataframe tbody tr th {\n",
       "        vertical-align: top;\n",
       "    }\n",
       "\n",
       "    .dataframe thead th {\n",
       "        text-align: right;\n",
       "    }\n",
       "</style>\n",
       "<table border=\"1\" class=\"dataframe\">\n",
       "  <thead>\n",
       "    <tr style=\"text-align: right;\">\n",
       "      <th></th>\n",
       "      <th>maas</th>\n",
       "      <th>yas</th>\n",
       "      <th>belCevresi</th>\n",
       "    </tr>\n",
       "  </thead>\n",
       "  <tbody>\n",
       "    <tr>\n",
       "      <th>ali</th>\n",
       "      <td>False</td>\n",
       "      <td>True</td>\n",
       "      <td>True</td>\n",
       "    </tr>\n",
       "    <tr>\n",
       "      <th>kemal</th>\n",
       "      <td>False</td>\n",
       "      <td>False</td>\n",
       "      <td>True</td>\n",
       "    </tr>\n",
       "    <tr>\n",
       "      <th>necip</th>\n",
       "      <td>True</td>\n",
       "      <td>False</td>\n",
       "      <td>True</td>\n",
       "    </tr>\n",
       "    <tr>\n",
       "      <th>ben</th>\n",
       "      <td>False</td>\n",
       "      <td>False</td>\n",
       "      <td>True</td>\n",
       "    </tr>\n",
       "  </tbody>\n",
       "</table>\n",
       "</div>"
      ],
      "text/plain": [
       "        maas    yas  belCevresi\n",
       "ali    False   True        True\n",
       "kemal  False  False        True\n",
       "necip   True  False        True\n",
       "ben    False  False        True"
      ]
     },
     "execution_count": 121,
     "metadata": {},
     "output_type": "execute_result"
    }
   ],
   "source": [
    "newDataFrame >0"
   ]
  },
  {
   "cell_type": "code",
   "execution_count": 122,
   "id": "3d167e3c",
   "metadata": {},
   "outputs": [
    {
     "data": {
      "text/html": [
       "<div>\n",
       "<style scoped>\n",
       "    .dataframe tbody tr th:only-of-type {\n",
       "        vertical-align: middle;\n",
       "    }\n",
       "\n",
       "    .dataframe tbody tr th {\n",
       "        vertical-align: top;\n",
       "    }\n",
       "\n",
       "    .dataframe thead th {\n",
       "        text-align: right;\n",
       "    }\n",
       "</style>\n",
       "<table border=\"1\" class=\"dataframe\">\n",
       "  <thead>\n",
       "    <tr style=\"text-align: right;\">\n",
       "      <th></th>\n",
       "      <th>maas</th>\n",
       "      <th>yas</th>\n",
       "      <th>belCevresi</th>\n",
       "    </tr>\n",
       "  </thead>\n",
       "  <tbody>\n",
       "    <tr>\n",
       "      <th>ali</th>\n",
       "      <td>-1.141889</td>\n",
       "      <td>2.166139</td>\n",
       "      <td>0.64165</td>\n",
       "    </tr>\n",
       "  </tbody>\n",
       "</table>\n",
       "</div>"
      ],
      "text/plain": [
       "         maas       yas  belCevresi\n",
       "ali -1.141889  2.166139     0.64165"
      ]
     },
     "execution_count": 122,
     "metadata": {},
     "output_type": "execute_result"
    }
   ],
   "source": [
    "newDataFrame[newDataFrame[\"yas\"]> 0]"
   ]
  },
  {
   "cell_type": "code",
   "execution_count": 123,
   "id": "b2b86f37",
   "metadata": {},
   "outputs": [
    {
     "data": {
      "text/html": [
       "<div>\n",
       "<style scoped>\n",
       "    .dataframe tbody tr th:only-of-type {\n",
       "        vertical-align: middle;\n",
       "    }\n",
       "\n",
       "    .dataframe tbody tr th {\n",
       "        vertical-align: top;\n",
       "    }\n",
       "\n",
       "    .dataframe thead th {\n",
       "        text-align: right;\n",
       "    }\n",
       "</style>\n",
       "<table border=\"1\" class=\"dataframe\">\n",
       "  <thead>\n",
       "    <tr style=\"text-align: right;\">\n",
       "      <th></th>\n",
       "      <th>index</th>\n",
       "      <th>maas</th>\n",
       "      <th>yas</th>\n",
       "      <th>belCevresi</th>\n",
       "    </tr>\n",
       "  </thead>\n",
       "  <tbody>\n",
       "    <tr>\n",
       "      <th>0</th>\n",
       "      <td>ali</td>\n",
       "      <td>-1.141889</td>\n",
       "      <td>2.166139</td>\n",
       "      <td>0.64165</td>\n",
       "    </tr>\n",
       "    <tr>\n",
       "      <th>1</th>\n",
       "      <td>kemal</td>\n",
       "      <td>-0.756420</td>\n",
       "      <td>-1.463029</td>\n",
       "      <td>0.54949</td>\n",
       "    </tr>\n",
       "    <tr>\n",
       "      <th>2</th>\n",
       "      <td>necip</td>\n",
       "      <td>0.509830</td>\n",
       "      <td>-0.982595</td>\n",
       "      <td>0.51981</td>\n",
       "    </tr>\n",
       "    <tr>\n",
       "      <th>3</th>\n",
       "      <td>ben</td>\n",
       "      <td>-1.847521</td>\n",
       "      <td>-0.061983</td>\n",
       "      <td>0.98640</td>\n",
       "    </tr>\n",
       "  </tbody>\n",
       "</table>\n",
       "</div>"
      ],
      "text/plain": [
       "   index      maas       yas  belCevresi\n",
       "0    ali -1.141889  2.166139     0.64165\n",
       "1  kemal -0.756420 -1.463029     0.54949\n",
       "2  necip  0.509830 -0.982595     0.51981\n",
       "3    ben -1.847521 -0.061983     0.98640"
      ]
     },
     "execution_count": 123,
     "metadata": {},
     "output_type": "execute_result"
    }
   ],
   "source": [
    "newDataFrame.reset_index()"
   ]
  },
  {
   "cell_type": "code",
   "execution_count": 124,
   "id": "147870ad",
   "metadata": {},
   "outputs": [
    {
     "ename": "NameError",
     "evalue": "name 'newData' is not defined",
     "output_type": "error",
     "traceback": [
      "\u001b[1;31m---------------------------------------------------------------------------\u001b[0m",
      "\u001b[1;31mNameError\u001b[0m                                 Traceback (most recent call last)",
      "\u001b[1;32m~\\AppData\\Local\\Temp/ipykernel_11336/1017662491.py\u001b[0m in \u001b[0;36m<module>\u001b[1;34m\u001b[0m\n\u001b[1;32m----> 1\u001b[1;33m \u001b[0mnewData\u001b[0m\u001b[1;33m\u001b[0m\u001b[1;33m\u001b[0m\u001b[0m\n\u001b[0m",
      "\u001b[1;31mNameError\u001b[0m: name 'newData' is not defined"
     ]
    }
   ],
   "source": [
    "newData"
   ]
  },
  {
   "cell_type": "code",
   "execution_count": 125,
   "id": "f5b554db",
   "metadata": {},
   "outputs": [],
   "source": [
    "newİndexList = [\"a\",\"k\",\"n\",\"b\"]"
   ]
  },
  {
   "cell_type": "code",
   "execution_count": 127,
   "id": "2b0d38dd",
   "metadata": {},
   "outputs": [],
   "source": [
    "newDataFrame[\"newİndex\"]=newİndexList"
   ]
  },
  {
   "cell_type": "code",
   "execution_count": 129,
   "id": "aa58a4e6",
   "metadata": {},
   "outputs": [
    {
     "data": {
      "text/html": [
       "<div>\n",
       "<style scoped>\n",
       "    .dataframe tbody tr th:only-of-type {\n",
       "        vertical-align: middle;\n",
       "    }\n",
       "\n",
       "    .dataframe tbody tr th {\n",
       "        vertical-align: top;\n",
       "    }\n",
       "\n",
       "    .dataframe thead th {\n",
       "        text-align: right;\n",
       "    }\n",
       "</style>\n",
       "<table border=\"1\" class=\"dataframe\">\n",
       "  <thead>\n",
       "    <tr style=\"text-align: right;\">\n",
       "      <th></th>\n",
       "      <th>maas</th>\n",
       "      <th>yas</th>\n",
       "      <th>belCevresi</th>\n",
       "    </tr>\n",
       "    <tr>\n",
       "      <th>newİndex</th>\n",
       "      <th></th>\n",
       "      <th></th>\n",
       "      <th></th>\n",
       "    </tr>\n",
       "  </thead>\n",
       "  <tbody>\n",
       "    <tr>\n",
       "      <th>a</th>\n",
       "      <td>-1.141889</td>\n",
       "      <td>2.166139</td>\n",
       "      <td>0.64165</td>\n",
       "    </tr>\n",
       "    <tr>\n",
       "      <th>k</th>\n",
       "      <td>-0.756420</td>\n",
       "      <td>-1.463029</td>\n",
       "      <td>0.54949</td>\n",
       "    </tr>\n",
       "    <tr>\n",
       "      <th>n</th>\n",
       "      <td>0.509830</td>\n",
       "      <td>-0.982595</td>\n",
       "      <td>0.51981</td>\n",
       "    </tr>\n",
       "    <tr>\n",
       "      <th>b</th>\n",
       "      <td>-1.847521</td>\n",
       "      <td>-0.061983</td>\n",
       "      <td>0.98640</td>\n",
       "    </tr>\n",
       "  </tbody>\n",
       "</table>\n",
       "</div>"
      ],
      "text/plain": [
       "              maas       yas  belCevresi\n",
       "newİndex                                \n",
       "a        -1.141889  2.166139     0.64165\n",
       "k        -0.756420 -1.463029     0.54949\n",
       "n         0.509830 -0.982595     0.51981\n",
       "b        -1.847521 -0.061983     0.98640"
      ]
     },
     "execution_count": 129,
     "metadata": {},
     "output_type": "execute_result"
    }
   ],
   "source": [
    "newDataFrame.set_index(\"newİndex\")"
   ]
  },
  {
   "cell_type": "code",
   "execution_count": null,
   "id": "5cd9811e",
   "metadata": {},
   "outputs": [],
   "source": []
  }
 ],
 "metadata": {
  "kernelspec": {
   "display_name": "Python 3 (ipykernel)",
   "language": "python",
   "name": "python3"
  },
  "language_info": {
   "codemirror_mode": {
    "name": "ipython",
    "version": 3
   },
   "file_extension": ".py",
   "mimetype": "text/x-python",
   "name": "python",
   "nbconvert_exporter": "python",
   "pygments_lexer": "ipython3",
   "version": "3.9.7"
  }
 },
 "nbformat": 4,
 "nbformat_minor": 5
}
