{
 "cells": [
  {
   "cell_type": "code",
   "execution_count": 34,
   "id": "94dc22e9",
   "metadata": {},
   "outputs": [],
   "source": [
    "\n",
    "dic1 = {\"ali\" : 6000 , \"mehmet\":5000 ,\"kemal\":4500 , \"can\":6500}"
   ]
  },
  {
   "cell_type": "code",
   "execution_count": 35,
   "id": "4b4119bb",
   "metadata": {},
   "outputs": [],
   "source": [
    "sum1=sum(dic1.values())\n",
    "len1=len(dic1.values())"
   ]
  },
  {
   "cell_type": "code",
   "execution_count": 36,
   "id": "bee01ea8",
   "metadata": {},
   "outputs": [
    {
     "data": {
      "text/plain": [
       "5500.0"
      ]
     },
     "execution_count": 36,
     "metadata": {},
     "output_type": "execute_result"
    }
   ],
   "source": [
    "avrage = sum1/len1\n",
    "avrage"
   ]
  },
  {
   "cell_type": "code",
   "execution_count": 38,
   "id": "2ce24223",
   "metadata": {},
   "outputs": [
    {
     "name": "stdout",
     "output_type": "stream",
     "text": [
      "500.0\n",
      "mehmete kadar zam\n"
     ]
    }
   ],
   "source": [
    "if \"mehmet\" in dic1 :\n",
    "    if dic1[\"mehmet\"] < avrage:\n",
    "        diff = avrage -dic1[\"mehmet\"]\n",
    "        print(diff)\n",
    "        print(\"mehmete kadar zam\")\n"
   ]
  },
  {
   "cell_type": "code",
   "execution_count": 24,
   "id": "e247b1ec",
   "metadata": {},
   "outputs": [
    {
     "data": {
      "text/plain": [
       "5000"
      ]
     },
     "execution_count": 24,
     "metadata": {},
     "output_type": "execute_result"
    }
   ],
   "source": [
    "dic1[\"mehmet\"]"
   ]
  },
  {
   "cell_type": "markdown",
   "id": "d6a6cab0",
   "metadata": {},
   "source": [
    "#KONTROLLER ÖRNEK ÇÖZÜMLER\n",
    "Ehliyet alma koşulu en az 18 ve eğitim durumu lise ya da üniversite olmalıdır."
   ]
  },
  {
   "cell_type": "code",
   "execution_count": 4,
   "id": "57b4935b",
   "metadata": {},
   "outputs": [
    {
     "name": "stdout",
     "output_type": "stream",
     "text": [
      "what is your name : sadas\n",
      "what is your   lastname : asd\n",
      "what is your born years :1998\n",
      "is yours education  primary school press '0' : \n",
      " is yours education high school press '1'  \n",
      " is yours education University press '2' 0\n",
      "you won't have a driver's license \n"
     ]
    }
   ],
   "source": [
    "name = input(\"what is your name : \")\n",
    "lastName = input(\"what is your   lastname : \")\n",
    "year = int(input(\"what is your born years :\"))\n",
    "school = input(\"is yours education  primary school press '0' : \\n is yours education high school press '1'  \\n is yours education University press '2' \")\n",
    "age = 2023-year\n",
    "\n",
    "\n",
    "if age < 18 :\n",
    "    print(\"you won't have a driver's license \")\n",
    "else :\n",
    "    if school== \"1\" or school==\"2\" : \n",
    "        print(\"you will have a driver's license\")\n",
    "    elif school == \"0\":\n",
    "         print(\"you won't have a driver's license \")\n",
    "        \n",
    "\n"
   ]
  },
  {
   "cell_type": "code",
   "execution_count": 14,
   "id": "9430a909",
   "metadata": {},
   "outputs": [
    {
     "name": "stdout",
     "output_type": "stream",
     "text": [
      "Enter the 1st number : 45\n",
      "Enter the 2nd number : 152\n",
      "Enter the 3rd number : 1\n"
     ]
    },
    {
     "data": {
      "text/plain": [
       "[45, 152, 1]"
      ]
     },
     "execution_count": 14,
     "metadata": {},
     "output_type": "execute_result"
    }
   ],
   "source": [
    "num1 =int(input(\"Enter the 1st number : \"))\n",
    "num2 =int(input(\"Enter the 2nd number : \"))\n",
    "num3 =int(input(\"Enter the 3rd number : \"))\n",
    "\n",
    "sortest = list()\n",
    "sortest.append(num1)\n",
    "sortest.append(num2)\n",
    "sortest.append(num3)\n",
    "sortest\n"
   ]
  },
  {
   "cell_type": "markdown",
   "id": "a10d9bf2",
   "metadata": {},
   "source": [
    " Girilen bir sayının pozitif çift sayı olup olmadığını kontrol eden python uygulamasını yapınız."
   ]
  },
  {
   "cell_type": "code",
   "execution_count": 2,
   "id": "2b910d84",
   "metadata": {},
   "outputs": [
    {
     "name": "stdout",
     "output_type": "stream",
     "text": [
      " bir sayı giriniz : 12\n",
      "sayı çifttir .\n"
     ]
    }
   ],
   "source": [
    "number = int(input(\" bir sayı giriniz : \"))\n",
    "result = number % 2 \n",
    "if result == 1 : \n",
    "    print(\"sayı tektir. \")\n",
    "else :\n",
    "    print(\"sayı çifttir .\")"
   ]
  },
  {
   "cell_type": "markdown",
   "id": "1fc87a22",
   "metadata": {},
   "source": [
    " Kullanıcıdan 2 vize (%60) ve final (%40) notunu alıp ortalama hesaplayan python uygulamasını yapınız.\n",
    "\n",
    "Eğer ortalama 50 ve üstündeyse geçti değilse kaldı yazdırın.\n",
    "Ortamalama 50 olsa bile final notu en az 50 olmalıdır.\n",
    "Finalden 70 alındığında ortalamanın önemi olmasın."
   ]
  },
  {
   "cell_type": "code",
   "execution_count": 7,
   "id": "08fbb744",
   "metadata": {},
   "outputs": [
    {
     "name": "stdout",
     "output_type": "stream",
     "text": [
      "vize  notunuzu giriniz : 60\n",
      "ikinci vize notunuz giriniz : 10\n",
      "final notunuzu giriniz : 60\n",
      "45.0\n"
     ]
    }
   ],
   "source": [
    "quiz1 = int(input(\"vize  notunuzu giriniz : \"))\n",
    "quiz2 = int(input(\"ikinci vize notunuz giriniz : \"))\n",
    "quiz3 = int(input(\"final notunuzu giriniz : \"))\n",
    "\n",
    "quiz1 = quiz1*0.3\n",
    "quiz2 = quiz2*0.3\n",
    "quiz3 = quiz3*0.4\n",
    "\n",
    "result = quiz1+quiz2+quiz3\n",
    "print(result)\n",
    "\n"
   ]
  },
  {
   "cell_type": "code",
   "execution_count": 8,
   "id": "bc798a1d",
   "metadata": {},
   "outputs": [
    {
     "name": "stdout",
     "output_type": "stream",
     "text": [
      "kalmıştır.\n"
     ]
    }
   ],
   "source": [
    "if result >= 50 :\n",
    "    print(\"öğrenci dersten geçmiştir\")\n",
    "else :\n",
    "    print(\"kalmıştır.\")"
   ]
  },
  {
   "cell_type": "code",
   "execution_count": null,
   "id": "ef81e58d",
   "metadata": {},
   "outputs": [],
   "source": []
  }
 ],
 "metadata": {
  "kernelspec": {
   "display_name": "Python 3 (ipykernel)",
   "language": "python",
   "name": "python3"
  },
  "language_info": {
   "codemirror_mode": {
    "name": "ipython",
    "version": 3
   },
   "file_extension": ".py",
   "mimetype": "text/x-python",
   "name": "python",
   "nbconvert_exporter": "python",
   "pygments_lexer": "ipython3",
   "version": "3.9.7"
  }
 },
 "nbformat": 4,
 "nbformat_minor": 5
}
