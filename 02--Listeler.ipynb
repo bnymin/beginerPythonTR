{
 "cells": [
  {
   "cell_type": "code",
   "execution_count": 1,
   "id": "6fb249e9",
   "metadata": {},
   "outputs": [],
   "source": [
    "isim =\" ssıdfjksdfksd\""
   ]
  },
  {
   "cell_type": "code",
   "execution_count": 2,
   "id": "4e14ff13",
   "metadata": {},
   "outputs": [
    {
     "ename": "AttributeError",
     "evalue": "'str' object has no attribute 'append'",
     "output_type": "error",
     "traceback": [
      "\u001b[1;31m---------------------------------------------------------------------------\u001b[0m",
      "\u001b[1;31mAttributeError\u001b[0m                            Traceback (most recent call last)",
      "\u001b[1;32m~\\AppData\\Local\\Temp/ipykernel_14720/3394819753.py\u001b[0m in \u001b[0;36m<module>\u001b[1;34m\u001b[0m\n\u001b[1;32m----> 1\u001b[1;33m \u001b[0misim\u001b[0m\u001b[1;33m.\u001b[0m\u001b[0mappend\u001b[0m\u001b[1;33m(\u001b[0m\u001b[1;36m5\u001b[0m\u001b[1;33m)\u001b[0m\u001b[1;33m\u001b[0m\u001b[1;33m\u001b[0m\u001b[0m\n\u001b[0m",
      "\u001b[1;31mAttributeError\u001b[0m: 'str' object has no attribute 'append'"
     ]
    }
   ],
   "source": [
    "isim.append(5)"
   ]
  },
  {
   "cell_type": "code",
   "execution_count": 3,
   "id": "1de6379c",
   "metadata": {},
   "outputs": [],
   "source": [
    "ilkListe = [10,35,6,92,64]"
   ]
  },
  {
   "cell_type": "code",
   "execution_count": 4,
   "id": "a7b4d194",
   "metadata": {},
   "outputs": [
    {
     "data": {
      "text/plain": [
       "[10, 35, 6, 92, 64]"
      ]
     },
     "execution_count": 4,
     "metadata": {},
     "output_type": "execute_result"
    }
   ],
   "source": [
    "ilkListe"
   ]
  },
  {
   "cell_type": "code",
   "execution_count": 5,
   "id": "02a28030",
   "metadata": {},
   "outputs": [
    {
     "data": {
      "text/plain": [
       "64"
      ]
     },
     "execution_count": 5,
     "metadata": {},
     "output_type": "execute_result"
    }
   ],
   "source": [
    "ilkListe[-1]"
   ]
  },
  {
   "cell_type": "code",
   "execution_count": 6,
   "id": "11f7374d",
   "metadata": {},
   "outputs": [
    {
     "data": {
      "text/plain": [
       "1"
      ]
     },
     "execution_count": 6,
     "metadata": {},
     "output_type": "execute_result"
    }
   ],
   "source": [
    "ilkListe.count(6)"
   ]
  },
  {
   "cell_type": "code",
   "execution_count": 7,
   "id": "1a7bdfe2",
   "metadata": {},
   "outputs": [],
   "source": [
    "a = ilkListe.sort()"
   ]
  },
  {
   "cell_type": "code",
   "execution_count": 9,
   "id": "f1793b4a",
   "metadata": {},
   "outputs": [],
   "source": [
    "a"
   ]
  },
  {
   "cell_type": "code",
   "execution_count": 12,
   "id": "562d8a57",
   "metadata": {},
   "outputs": [],
   "source": [
    "ilkListe.insert(6,5)"
   ]
  },
  {
   "cell_type": "code",
   "execution_count": 13,
   "id": "d5f7232f",
   "metadata": {},
   "outputs": [
    {
     "data": {
      "text/plain": [
       "[6, 10, 35, 64, 92, 5, 5]"
      ]
     },
     "execution_count": 13,
     "metadata": {},
     "output_type": "execute_result"
    }
   ],
   "source": [
    "ilkListe"
   ]
  },
  {
   "cell_type": "code",
   "execution_count": 33,
   "id": "b52a1928",
   "metadata": {},
   "outputs": [],
   "source": [
    "liste1 = [\"asda\",\"sddasdad\" ,\"12\"]"
   ]
  },
  {
   "cell_type": "code",
   "execution_count": 34,
   "id": "761ccfc9",
   "metadata": {},
   "outputs": [],
   "source": [
    "liste2 = [\"lklklk\",\"oıououoı\",\"86\"]"
   ]
  },
  {
   "cell_type": "code",
   "execution_count": 35,
   "id": "593c4728",
   "metadata": {},
   "outputs": [
    {
     "data": {
      "text/plain": [
       "['asda', 'sddasdad', '12', 'lklklk', 'oıououoı', '86']"
      ]
     },
     "execution_count": 35,
     "metadata": {},
     "output_type": "execute_result"
    }
   ],
   "source": [
    "liste1+liste2"
   ]
  },
  {
   "cell_type": "code",
   "execution_count": 37,
   "id": "07b3cea5",
   "metadata": {},
   "outputs": [
    {
     "ename": "TypeError",
     "evalue": "can only concatenate list (not \"int\") to list",
     "output_type": "error",
     "traceback": [
      "\u001b[1;31m---------------------------------------------------------------------------\u001b[0m",
      "\u001b[1;31mTypeError\u001b[0m                                 Traceback (most recent call last)",
      "\u001b[1;32m~\\AppData\\Local\\Temp/ipykernel_14772/2698531301.py\u001b[0m in \u001b[0;36m<module>\u001b[1;34m\u001b[0m\n\u001b[1;32m----> 1\u001b[1;33m \u001b[0mliste1\u001b[0m\u001b[1;33m+\u001b[0m\u001b[1;36m5\u001b[0m\u001b[1;33m\u001b[0m\u001b[1;33m\u001b[0m\u001b[0m\n\u001b[0m",
      "\u001b[1;31mTypeError\u001b[0m: can only concatenate list (not \"int\") to list"
     ]
    }
   ],
   "source": [
    "liste1+5"
   ]
  },
  {
   "cell_type": "code",
   "execution_count": 38,
   "id": "819f1d6c",
   "metadata": {},
   "outputs": [],
   "source": [
    "liste3 = [\"1\",5,3.5,\"dssdfsd\"]"
   ]
  },
  {
   "cell_type": "code",
   "execution_count": 39,
   "id": "3e53c88e",
   "metadata": {},
   "outputs": [
    {
     "data": {
      "text/plain": [
       "['1', 5, 3.5, 'dssdfsd']"
      ]
     },
     "execution_count": 39,
     "metadata": {},
     "output_type": "execute_result"
    }
   ],
   "source": [
    "liste3"
   ]
  },
  {
   "cell_type": "code",
   "execution_count": 44,
   "id": "69f3be6c",
   "metadata": {},
   "outputs": [],
   "source": [
    "a=liste3[2]"
   ]
  },
  {
   "cell_type": "code",
   "execution_count": 45,
   "id": "c6e1d273",
   "metadata": {},
   "outputs": [
    {
     "data": {
      "text/plain": [
       "float"
      ]
     },
     "execution_count": 45,
     "metadata": {},
     "output_type": "execute_result"
    }
   ],
   "source": [
    "type(a)"
   ]
  },
  {
   "cell_type": "code",
   "execution_count": 72,
   "id": "84b1f7ef",
   "metadata": {},
   "outputs": [],
   "source": [
    "liste4 = [[1,\"asd\",50],[\"665\",5,\"trtr\"],[1,6,\"dsdfsd\"]]"
   ]
  },
  {
   "cell_type": "code",
   "execution_count": null,
   "id": "6f530f10",
   "metadata": {},
   "outputs": [],
   "source": [
    " a=liste4[1]"
   ]
  },
  {
   "cell_type": "code",
   "execution_count": 79,
   "id": "a447eb97",
   "metadata": {},
   "outputs": [],
   "source": [
    "liste4[2][2]= 1"
   ]
  },
  {
   "cell_type": "code",
   "execution_count": 80,
   "id": "24f09cae",
   "metadata": {},
   "outputs": [
    {
     "data": {
      "text/plain": [
       "[[1, 'asd', 50], ['665', 5, 'trtr'], [1, 6, 1]]"
      ]
     },
     "execution_count": 80,
     "metadata": {},
     "output_type": "execute_result"
    }
   ],
   "source": [
    "liste4"
   ]
  },
  {
   "cell_type": "code",
   "execution_count": 76,
   "id": "efbb8c82",
   "metadata": {},
   "outputs": [
    {
     "data": {
      "text/plain": [
       "[[1, 'asd', 50], ['665', 5, 'trtr'], [1, 6, 'dsdfsd']]"
      ]
     },
     "execution_count": 76,
     "metadata": {},
     "output_type": "execute_result"
    }
   ],
   "source": [
    "liste4"
   ]
  },
  {
   "cell_type": "code",
   "execution_count": 1,
   "id": "c000bd6d",
   "metadata": {},
   "outputs": [],
   "source": [
    "a1 = [\"Yiğit\", \"Bilgi\" ,\"2010\", (70,60,70)]"
   ]
  },
  {
   "cell_type": "code",
   "execution_count": 21,
   "id": "88b379c7",
   "metadata": {},
   "outputs": [
    {
     "data": {
      "text/plain": [
       "[['bünyamin', 1999, 'denizli,', ['yüzme', 45]],\n",
       " 'ev',\n",
       " ['emrah', 2001, 'konya', ['futbol', 5]],\n",
       " 53]"
      ]
     },
     "execution_count": 21,
     "metadata": {},
     "output_type": "execute_result"
    }
   ],
   "source": [
    "newList = [[\"bünyamin\" , 1999, \"denizli,\",[\"yüzme\",45]] , \"ev\", [\"emrah\",2001,\"konya\",[\"futbol\",15]],53]\n",
    "newList\n",
    "newList[0][3][1]\n",
    "newList[2][3][1] = 5\n",
    "newList"
   ]
  },
  {
   "cell_type": "markdown",
   "id": "37e52480",
   "metadata": {},
   "source": [
    "#  sözlükler "
   ]
  },
  {
   "cell_type": "code",
   "execution_count": 22,
   "id": "7e53403d",
   "metadata": {},
   "outputs": [],
   "source": [
    "ilkSozluk = {\"anahtarKelime\" : \"deger\"}"
   ]
  },
  {
   "cell_type": "code",
   "execution_count": 26,
   "id": "8b1640d5",
   "metadata": {},
   "outputs": [],
   "source": [
    "ilkSozluk = { \"benchPress\" : \"5x8\" , \"latPullDown\" : \"4x20\" }"
   ]
  },
  {
   "cell_type": "code",
   "execution_count": 37,
   "id": "952ea45c",
   "metadata": {},
   "outputs": [
    {
     "data": {
      "text/plain": [
       "{'benchPress': 5, 'latPullDown': '4x20'}"
      ]
     },
     "execution_count": 37,
     "metadata": {},
     "output_type": "execute_result"
    }
   ],
   "source": [
    "type(ilkSozluk)\n",
    "\n",
    "ilkSozluk[\"benchPress\"] = 5\n",
    "ilkSozluk"
   ]
  },
  {
   "cell_type": "code",
   "execution_count": 2,
   "id": "cc1ed606",
   "metadata": {},
   "outputs": [],
   "source": [
    "ikiSozluk = {\"b1\" : 50 , \"b2\" : [\"aek\",56],\"b3\" :{\"b4\":{\"ppğp\",6}}}"
   ]
  },
  {
   "cell_type": "code",
   "execution_count": 3,
   "id": "3ecf58a6",
   "metadata": {},
   "outputs": [
    {
     "data": {
      "text/plain": [
       "{'b1': 50, 'b2': ['aek', 56], 'b3': {'b4': {6, 'ppğp'}}}"
      ]
     },
     "execution_count": 3,
     "metadata": {},
     "output_type": "execute_result"
    }
   ],
   "source": [
    "ikiSozluk"
   ]
  },
  {
   "cell_type": "code",
   "execution_count": 4,
   "id": "c565950f",
   "metadata": {},
   "outputs": [
    {
     "data": {
      "text/plain": [
       "dict_values([50, ['aek', 56], {'b4': {'ppğp', 6}}])"
      ]
     },
     "execution_count": 4,
     "metadata": {},
     "output_type": "execute_result"
    }
   ],
   "source": [
    "ikiSozluk.keys()\n",
    "ikiSozluk.values()"
   ]
  },
  {
   "cell_type": "code",
   "execution_count": 5,
   "id": "1dd4b59d",
   "metadata": {},
   "outputs": [
    {
     "data": {
      "text/plain": [
       "50"
      ]
     },
     "execution_count": 5,
     "metadata": {},
     "output_type": "execute_result"
    }
   ],
   "source": [
    "ikiSozluk[\"b1\"]"
   ]
  },
  {
   "cell_type": "code",
   "execution_count": 52,
   "id": "b474dc6e",
   "metadata": {},
   "outputs": [
    {
     "ename": "TypeError",
     "evalue": "'set' object is not subscriptable",
     "output_type": "error",
     "traceback": [
      "\u001b[1;31m---------------------------------------------------------------------------\u001b[0m",
      "\u001b[1;31mTypeError\u001b[0m                                 Traceback (most recent call last)",
      "\u001b[1;32m~\\AppData\\Local\\Temp/ipykernel_13284/1306208992.py\u001b[0m in \u001b[0;36m<module>\u001b[1;34m\u001b[0m\n\u001b[1;32m----> 1\u001b[1;33m \u001b[0mikiSozluk\u001b[0m\u001b[1;33m[\u001b[0m\u001b[1;34m\"b3\"\u001b[0m\u001b[1;33m]\u001b[0m\u001b[1;33m[\u001b[0m\u001b[1;34m\"b4\"\u001b[0m\u001b[1;33m]\u001b[0m\u001b[1;33m[\u001b[0m\u001b[1;36m1\u001b[0m\u001b[1;33m]\u001b[0m\u001b[1;33m\u001b[0m\u001b[1;33m\u001b[0m\u001b[0m\n\u001b[0m",
      "\u001b[1;31mTypeError\u001b[0m: 'set' object is not subscriptable"
     ]
    }
   ],
   "source": [
    "ikiSozluk[\"b3\"][\"b4\"]"
   ]
  },
  {
   "cell_type": "markdown",
   "id": "0e93892f",
   "metadata": {},
   "source": [
    "# setler\n"
   ]
  },
  {
   "cell_type": "markdown",
   "id": "0169bdcd",
   "metadata": {},
   "source": [
    "!!!!!!setler aynı elemanlar bulunmaz"
   ]
  },
  {
   "cell_type": "code",
   "execution_count": 53,
   "id": "77fdb6e0",
   "metadata": {},
   "outputs": [],
   "source": [
    "set1 = {\"2\",\"a\",6,\"asd\"}"
   ]
  },
  {
   "cell_type": "code",
   "execution_count": 55,
   "id": "6b2c56d0",
   "metadata": {},
   "outputs": [
    {
     "data": {
      "text/plain": [
       "{'2', 6, 'a', 'asd'}"
      ]
     },
     "execution_count": 55,
     "metadata": {},
     "output_type": "execute_result"
    }
   ],
   "source": [
    "set1\n"
   ]
  },
  {
   "cell_type": "code",
   "execution_count": 56,
   "id": "5dc893ee",
   "metadata": {},
   "outputs": [],
   "source": [
    "bosSet = set()"
   ]
  },
  {
   "cell_type": "code",
   "execution_count": 58,
   "id": "daf6a546",
   "metadata": {},
   "outputs": [],
   "source": [
    "bosSet.add(5)\n",
    "bosSet.add(\"sdsdsf\")\n",
    "bosSet.add(5)"
   ]
  },
  {
   "cell_type": "code",
   "execution_count": 59,
   "id": "bd75d873",
   "metadata": {},
   "outputs": [
    {
     "data": {
      "text/plain": [
       "{5, 'sdsdsf'}"
      ]
     },
     "execution_count": 59,
     "metadata": {},
     "output_type": "execute_result"
    }
   ],
   "source": [
    "bosSet"
   ]
  },
  {
   "cell_type": "code",
   "execution_count": 70,
   "id": "c8c14d72",
   "metadata": {},
   "outputs": [],
   "source": [
    "bosList= list()\n",
    "bosList.append(5)\n",
    "bosList.append(\"asdasd\")\n",
    "bosList.append(\"1sd\")"
   ]
  },
  {
   "cell_type": "code",
   "execution_count": 71,
   "id": "ad8ae6a6",
   "metadata": {},
   "outputs": [
    {
     "data": {
      "text/plain": [
       "[5, 'asdasd', '1sd']"
      ]
     },
     "execution_count": 71,
     "metadata": {},
     "output_type": "execute_result"
    }
   ],
   "source": [
    "bosList"
   ]
  },
  {
   "cell_type": "code",
   "execution_count": 72,
   "id": "ca88d883",
   "metadata": {},
   "outputs": [],
   "source": [
    "bosList1 = []\n",
    "bosList1.append(5)\n",
    "bosList1.append(\"pğğpğ\")"
   ]
  },
  {
   "cell_type": "code",
   "execution_count": 73,
   "id": "52931a6a",
   "metadata": {},
   "outputs": [
    {
     "data": {
      "text/plain": [
       "[5, 'pğğpğ']"
      ]
     },
     "execution_count": 73,
     "metadata": {},
     "output_type": "execute_result"
    }
   ],
   "source": [
    "bosList1"
   ]
  },
  {
   "cell_type": "code",
   "execution_count": 74,
   "id": "f8243789",
   "metadata": {},
   "outputs": [],
   "source": [
    "bosSet1 = set(bosList)"
   ]
  },
  {
   "cell_type": "code",
   "execution_count": 75,
   "id": "229a64c2",
   "metadata": {},
   "outputs": [
    {
     "data": {
      "text/plain": [
       "{'1sd', 5, 'asdasd'}"
      ]
     },
     "execution_count": 75,
     "metadata": {},
     "output_type": "execute_result"
    }
   ],
   "source": [
    "bosSet1"
   ]
  },
  {
   "cell_type": "markdown",
   "id": "efb88da2",
   "metadata": {},
   "source": [
    "# BOOLEAN (bool)"
   ]
  },
  {
   "cell_type": "code",
   "execution_count": null,
   "id": "5983517f",
   "metadata": {},
   "outputs": [],
   "source": []
  }
 ],
 "metadata": {
  "kernelspec": {
   "display_name": "Python 3 (ipykernel)",
   "language": "python",
   "name": "python3"
  },
  "language_info": {
   "codemirror_mode": {
    "name": "ipython",
    "version": 3
   },
   "file_extension": ".py",
   "mimetype": "text/x-python",
   "name": "python",
   "nbconvert_exporter": "python",
   "pygments_lexer": "ipython3",
   "version": "3.9.7"
  }
 },
 "nbformat": 4,
 "nbformat_minor": 5
}
