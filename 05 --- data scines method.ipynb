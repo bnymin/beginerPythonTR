{
 "cells": [
  {
   "cell_type": "code",
   "execution_count": 4,
   "id": "2c096c47",
   "metadata": {},
   "outputs": [
    {
     "name": "stdout",
     "output_type": "stream",
     "text": [
      "0 5\n",
      "1 6\n",
      "2 7\n",
      "3 8\n",
      "4 9\n",
      "5 10\n",
      "6 11\n",
      "7 12\n",
      "8 13\n",
      "9 14\n"
     ]
    }
   ],
   "source": [
    "for (idnx,numara) in enumerate(list(range(5,15))):\n",
    "    print(idnx,numara)"
   ]
  },
  {
   "cell_type": "code",
   "execution_count": 6,
   "id": "d00bb649",
   "metadata": {},
   "outputs": [],
   "source": [
    "from random import randint"
   ]
  },
  {
   "cell_type": "code",
   "execution_count": 10,
   "id": "f0a18c03",
   "metadata": {},
   "outputs": [
    {
     "data": {
      "text/plain": [
       "52"
      ]
     },
     "execution_count": 10,
     "metadata": {},
     "output_type": "execute_result"
    }
   ],
   "source": [
    "randint(15,60)"
   ]
  },
  {
   "cell_type": "code",
   "execution_count": 16,
   "id": "aedf380f",
   "metadata": {},
   "outputs": [],
   "source": [
    "newList = list(range(0,9))"
   ]
  },
  {
   "cell_type": "code",
   "execution_count": 17,
   "id": "cee4d2f8",
   "metadata": {},
   "outputs": [
    {
     "data": {
      "text/plain": [
       "1"
      ]
     },
     "execution_count": 17,
     "metadata": {},
     "output_type": "execute_result"
    }
   ],
   "source": [
    "newList[randint(0,9)]"
   ]
  },
  {
   "cell_type": "code",
   "execution_count": 18,
   "id": "80c8ea5a",
   "metadata": {},
   "outputs": [],
   "source": [
    "from random import shuffle"
   ]
  },
  {
   "cell_type": "code",
   "execution_count": 22,
   "id": "80187464",
   "metadata": {},
   "outputs": [
    {
     "data": {
      "text/plain": [
       "[5, 6, 1, 4, 8, 3, 7, 2, 0]"
      ]
     },
     "execution_count": 22,
     "metadata": {},
     "output_type": "execute_result"
    }
   ],
   "source": [
    "shuffle(newList)\n",
    "newList"
   ]
  },
  {
   "cell_type": "code",
   "execution_count": 26,
   "id": "2aa28f47",
   "metadata": {},
   "outputs": [],
   "source": [
    "days = [\"sunday \", \"tuesday\" , \"friday \"]\n",
    "region = [\"chest\" , \"back\",\"leg\"]\n",
    "move = [[\"bench \" , \"incilanebech\" , \"cable\"] ,[\"latPulDown\" ,\"cableRow\",\"barfis\" ], [\"squat\", \"bulgarianSpilt\",\"legRises\"]]\n",
    "repat = [\"5x8\",\"4x10\",\"3x2\"]"
   ]
  },
  {
   "cell_type": "code",
   "execution_count": 28,
   "id": "c1cea209",
   "metadata": {},
   "outputs": [
    {
     "data": {
      "text/plain": [
       "[('sunday ', 'chest', ['bench ', 'incilanebech', 'cable'], '5x8'),\n",
       " ('tuesday', 'back', ['latPulDown', 'cableRow', 'barfis'], '4x10'),\n",
       " ('friday ', 'leg', ['squat', 'bulgarianSpilt', 'legRises'], '3x2')]"
      ]
     },
     "execution_count": 28,
     "metadata": {},
     "output_type": "execute_result"
    }
   ],
   "source": [
    "zip1 = list(zip(days,region,move,repat))\n",
    "zip1"
   ]
  },
  {
   "cell_type": "code",
   "execution_count": 1,
   "id": "3d17d5e8",
   "metadata": {},
   "outputs": [
    {
     "ename": "NameError",
     "evalue": "name 'shuffle' is not defined",
     "output_type": "error",
     "traceback": [
      "\u001b[1;31m---------------------------------------------------------------------------\u001b[0m",
      "\u001b[1;31mNameError\u001b[0m                                 Traceback (most recent call last)",
      "\u001b[1;32m~\\AppData\\Local\\Temp/ipykernel_8576/1105006313.py\u001b[0m in \u001b[0;36m<module>\u001b[1;34m\u001b[0m\n\u001b[0;32m      1\u001b[0m \u001b[0mname\u001b[0m \u001b[1;33m=\u001b[0m \u001b[1;34m\"bunyamin cay\"\u001b[0m\u001b[1;33m\u001b[0m\u001b[1;33m\u001b[0m\u001b[0m\n\u001b[0;32m      2\u001b[0m \u001b[0mtestList\u001b[0m \u001b[1;33m=\u001b[0m \u001b[1;33m[\u001b[0m\u001b[0meleman\u001b[0m \u001b[1;32mfor\u001b[0m \u001b[0meleman\u001b[0m \u001b[1;32min\u001b[0m \u001b[0mname\u001b[0m \u001b[1;33m]\u001b[0m\u001b[1;33m\u001b[0m\u001b[1;33m\u001b[0m\u001b[0m\n\u001b[1;32m----> 3\u001b[1;33m \u001b[0mshuffle\u001b[0m\u001b[1;33m(\u001b[0m\u001b[0mtestList\u001b[0m\u001b[1;33m)\u001b[0m\u001b[1;33m\u001b[0m\u001b[1;33m\u001b[0m\u001b[0m\n\u001b[0m",
      "\u001b[1;31mNameError\u001b[0m: name 'shuffle' is not defined"
     ]
    }
   ],
   "source": [
    "name = \"bunyamin cay\"\n",
    "testList = [eleman for eleman in name ]\n",
    "shuffle(testList)"
   ]
  },
  {
   "cell_type": "code",
   "execution_count": null,
   "id": "0e3b56dc",
   "metadata": {},
   "outputs": [],
   "source": []
  }
 ],
 "metadata": {
  "kernelspec": {
   "display_name": "Python 3 (ipykernel)",
   "language": "python",
   "name": "python3"
  },
  "language_info": {
   "codemirror_mode": {
    "name": "ipython",
    "version": 3
   },
   "file_extension": ".py",
   "mimetype": "text/x-python",
   "name": "python",
   "nbconvert_exporter": "python",
   "pygments_lexer": "ipython3",
   "version": "3.9.7"
  }
 },
 "nbformat": 4,
 "nbformat_minor": 5
}
