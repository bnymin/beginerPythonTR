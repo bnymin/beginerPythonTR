{
 "cells": [
  {
   "cell_type": "code",
   "execution_count": 9,
   "id": "c749d28d",
   "metadata": {},
   "outputs": [],
   "source": [
    "import numpy as np \n",
    "import pandas as pd \n",
    "import matplotlib.pyplot as plt"
   ]
  },
  {
   "cell_type": "code",
   "execution_count": 10,
   "id": "e08c80e1",
   "metadata": {},
   "outputs": [],
   "source": [
    "numpyDizi = np.linspace(0,10,20)"
   ]
  },
  {
   "cell_type": "code",
   "execution_count": 11,
   "id": "22bf9fb9",
   "metadata": {},
   "outputs": [
    {
     "data": {
      "text/plain": [
       "array([ 0.        ,  0.52631579,  1.05263158,  1.57894737,  2.10526316,\n",
       "        2.63157895,  3.15789474,  3.68421053,  4.21052632,  4.73684211,\n",
       "        5.26315789,  5.78947368,  6.31578947,  6.84210526,  7.36842105,\n",
       "        7.89473684,  8.42105263,  8.94736842,  9.47368421, 10.        ])"
      ]
     },
     "execution_count": 11,
     "metadata": {},
     "output_type": "execute_result"
    }
   ],
   "source": [
    "numpyDizi"
   ]
  },
  {
   "cell_type": "code",
   "execution_count": 12,
   "id": "53dd9777",
   "metadata": {},
   "outputs": [],
   "source": [
    "numpyDizi1 = numpyDizi ** 2"
   ]
  },
  {
   "cell_type": "code",
   "execution_count": 18,
   "id": "bb613400",
   "metadata": {},
   "outputs": [
    {
     "data": {
      "text/plain": [
       "[<matplotlib.lines.Line2D at 0x216cd6967c0>]"
      ]
     },
     "execution_count": 18,
     "metadata": {},
     "output_type": "execute_result"
    },
    {
     "data": {
      "image/png": "[encoded data removed]",
      "text/plain": [
       "<Figure size 432x288 with 1 Axes>"
      ]
     },
     "metadata": {
      "needs_background": "light"
     },
     "output_type": "display_data"
    },
    {
     "data": {
      "image/png": "[encoded data removed]",
      "text/plain": [
       "<Figure size 432x288 with 1 Axes>"
      ]
     },
     "metadata": {
      "needs_background": "light"
     },
     "output_type": "display_data"
    }
   ],
   "source": [
    "figure = plt.figure()\n",
    "benimFigure =figure.add_axes([0.1,0.4,0.9,0.4])\n",
    "(benimFigure , benimEksen ) =plt.subplots()\n",
    "\n",
    "benimEksen.plot(numpyDizi,numpyDizi1,\"g\")"
   ]
  },
  {
   "cell_type": "code",
   "execution_count": null,
   "id": "ea0eafd2",
   "metadata": {},
   "outputs": [],
   "source": []
  }
 ],
 "metadata": {
  "kernelspec": {
   "display_name": "Python 3 (ipykernel)",
   "language": "python",
   "name": "python3"
  },
  "language_info": {
   "codemirror_mode": {
    "name": "ipython",
    "version": 3
   },
   "file_extension": ".py",
   "mimetype": "text/x-python",
   "name": "python",
   "nbconvert_exporter": "python",
   "pygments_lexer": "ipython3",
   "version": "3.9.7"
  }
 },
 "nbformat": 4,
 "nbformat_minor": 5
}
