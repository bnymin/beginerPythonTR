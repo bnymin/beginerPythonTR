{
 "cells": [
  {
   "cell_type": "code",
   "execution_count": 29,
   "id": "b4848ae2",
   "metadata": {},
   "outputs": [],
   "source": [
    "class Gym():\n",
    "    def __init__(self,name,region,move,repat):\n",
    "        print(\"inittttt man\")\n",
    "        self.name = name\n",
    "        self.region = region\n",
    "        self.move =move\n",
    "        self.repat = repat\n",
    "    def newMethod(self):\n",
    "        print(f\"benim adım {self.name} çalışıcağım bölge {self.region}\")"
   ]
  },
  {
   "cell_type": "code",
   "execution_count": 30,
   "id": "b2a78fbc",
   "metadata": {},
   "outputs": [
    {
     "name": "stdout",
     "output_type": "stream",
     "text": [
      "inittttt man\n"
     ]
    }
   ],
   "source": [
    "a1 =Gym(\"bunyamin\",\"chest\",\"benchpres\",12)"
   ]
  },
  {
   "cell_type": "code",
   "execution_count": 31,
   "id": "f72021b4",
   "metadata": {},
   "outputs": [
    {
     "name": "stdout",
     "output_type": "stream",
     "text": [
      "inittttt man\n"
     ]
    }
   ],
   "source": [
    "a2 =Gym(\"alim\",\"leg\",\"squat\",16)"
   ]
  },
  {
   "cell_type": "code",
   "execution_count": 32,
   "id": "6c2e5816",
   "metadata": {},
   "outputs": [
    {
     "name": "stdout",
     "output_type": "stream",
     "text": [
      "benim adım bunyamin çalışıcağım bölge chest\n"
     ]
    }
   ],
   "source": [
    "a1.newMethod()\n",
    "    \n"
   ]
  },
  {
   "cell_type": "code",
   "execution_count": 102,
   "id": "00532c37",
   "metadata": {},
   "outputs": [],
   "source": [
    "class Dog(Cat):\n",
    "    yılCarpan = 7\n",
    "    def __init__(self,yas = 7):\n",
    "        print(\"köpek insan arasındaki oran 7 katıdır\")\n",
    "        self.yas = yas\n",
    "        \n",
    "    def dogHumanAge(self):\n",
    "        HumanDog = self.yas * self.yılCarpan\n",
    "        return HumanDog\n",
    "    def miyaval(self) : \n",
    "        print(\"miavvvv\")"
   ]
  },
  {
   "cell_type": "code",
   "execution_count": 103,
   "id": "f6cec918",
   "metadata": {},
   "outputs": [
    {
     "name": "stdout",
     "output_type": "stream",
     "text": [
      "köpek insan arasındaki oran 7 katıdır\n",
      "köpek insan arasındaki oran 7 katıdır\n"
     ]
    }
   ],
   "source": [
    "myDog = Dog()\n",
    "youDog =Dog()"
   ]
  },
  {
   "cell_type": "code",
   "execution_count": 115,
   "id": "cc99e5d5",
   "metadata": {},
   "outputs": [
    {
     "name": "stdout",
     "output_type": "stream",
     "text": [
      "miavvvv\n"
     ]
    }
   ],
   "source": [
    "myDog.miyaval()\n"
   ]
  },
  {
   "cell_type": "markdown",
   "id": "8605bc7c",
   "metadata": {},
   "source": [
    "# İnharitanace Kalıtım  Mİras \n"
   ]
  },
  {
   "cell_type": "code",
   "execution_count": 110,
   "id": "e04cf745",
   "metadata": {},
   "outputs": [],
   "source": [
    "class Cat(Dog):\n",
    "    def __init__(self):\n",
    "        Dog.__init__(self)\n",
    "        print(\"kedi sınıfı çağırıldı\")\n",
    "        #burda diğer sınıfta yaptığımız özellikleri burada mira olarak kullandık\n",
    "    def havla(self):\n",
    "        print(\"havhhav\")\n",
    "    def miyaval(self) :  # üsütüne yazama denir miras istenmeyen şeyi tekrar aynı isimde yazabiliriz\n",
    "        print(\"miyav artık kedi sınıfından geliyor\")"
   ]
  },
  {
   "cell_type": "code",
   "execution_count": 111,
   "id": "2d32f028",
   "metadata": {},
   "outputs": [
    {
     "name": "stdout",
     "output_type": "stream",
     "text": [
      "köpek insan arasındaki oran 7 katıdır\n",
      "kedi sınıfı çağırıldı\n"
     ]
    }
   ],
   "source": [
    "cat1=Cat()"
   ]
  },
  {
   "cell_type": "code",
   "execution_count": 114,
   "id": "74aef606",
   "metadata": {},
   "outputs": [
    {
     "name": "stdout",
     "output_type": "stream",
     "text": [
      "miyav artık kedi sınıfından geliyor\n"
     ]
    }
   ],
   "source": [
    "cat1.miyaval()"
   ]
  },
  {
   "cell_type": "markdown",
   "id": "5f3892d0",
   "metadata": {},
   "source": [
    "# POLİMORFİZİM  "
   ]
  },
  {
   "cell_type": "markdown",
   "id": "dbaf6315",
   "metadata": {},
   "source": [
    "POLİMORFİZİM aynı sınıfların aynı methodları farklı sonuçları vermesi için kullanılır"
   ]
  },
  {
   "cell_type": "code",
   "execution_count": 116,
   "id": "8354f76d",
   "metadata": {},
   "outputs": [],
   "source": [
    "class Chest():\n",
    "    def __init__(self,bolge):\n",
    "        self.bolge = bolge\n",
    "    def repad(self):\n",
    "        return self.bolge + \" 3 set 12 tekrar\"\n",
    "        "
   ]
  },
  {
   "cell_type": "code",
   "execution_count": 129,
   "id": "c00709bf",
   "metadata": {},
   "outputs": [],
   "source": [
    "class Back():\n",
    "    def __init__(self,bolge):\n",
    "        self.bolge = bolge\n",
    "    def repad(self):\n",
    "            return self.bolge +\"4 set 10 tekrar\""
   ]
  },
  {
   "cell_type": "code",
   "execution_count": 130,
   "id": "fd69cfd8",
   "metadata": {},
   "outputs": [],
   "source": [
    "bench = Chest(\"bench\")\n"
   ]
  },
  {
   "cell_type": "code",
   "execution_count": 131,
   "id": "22a57c93",
   "metadata": {},
   "outputs": [],
   "source": [
    "latPullDown = Back(\"lPD\")"
   ]
  },
  {
   "cell_type": "code",
   "execution_count": 132,
   "id": "8f8797be",
   "metadata": {},
   "outputs": [
    {
     "data": {
      "text/plain": [
       "'bench 3 set 12 tekrar'"
      ]
     },
     "execution_count": 132,
     "metadata": {},
     "output_type": "execute_result"
    }
   ],
   "source": [
    "bench.repad()"
   ]
  },
  {
   "cell_type": "code",
   "execution_count": 133,
   "id": "a35c9a2c",
   "metadata": {},
   "outputs": [
    {
     "data": {
      "text/plain": [
       "'lPD4 set 10 tekrar'"
      ]
     },
     "execution_count": 133,
     "metadata": {},
     "output_type": "execute_result"
    }
   ],
   "source": [
    "latPullDown.repad()"
   ]
  },
  {
   "cell_type": "code",
   "execution_count": 136,
   "id": "1848c773",
   "metadata": {},
   "outputs": [
    {
     "name": "stdout",
     "output_type": "stream",
     "text": [
      "bench 3 set 12 tekrar sadasdasdasd\n",
      "lPD4 set 10 tekrar sadasdasdasd\n"
     ]
    }
   ],
   "source": [
    "sınıfList =[bench,latPullDown]\n",
    "for i in sınıfList : \n",
    "    print(f\"{i.repad()}\")"
   ]
  },
  {
   "cell_type": "code",
   "execution_count": null,
   "id": "8d5d1140",
   "metadata": {},
   "outputs": [],
   "source": []
  }
 ],
 "metadata": {
  "kernelspec": {
   "display_name": "Python 3 (ipykernel)",
   "language": "python",
   "name": "python3"
  },
  "language_info": {
   "codemirror_mode": {
    "name": "ipython",
    "version": 3
   },
   "file_extension": ".py",
   "mimetype": "text/x-python",
   "name": "python",
   "nbconvert_exporter": "python",
   "pygments_lexer": "ipython3",
   "version": "3.9.7"
  }
 },
 "nbformat": 4,
 "nbformat_minor": 5
}
