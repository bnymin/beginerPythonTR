{
 "cells": [
  {
   "cell_type": "code",
   "execution_count": 5,
   "id": "a55038a8",
   "metadata": {},
   "outputs": [],
   "source": [
    "import random"
   ]
  },
  {
   "cell_type": "code",
   "execution_count": 37,
   "id": "08575c42",
   "metadata": {},
   "outputs": [
    {
     "name": "stdout",
     "output_type": "stream",
     "text": [
      "taş mı kağıt mı makas mı  T  K  M  :K\n",
      "K\n",
      "T\n",
      "KAZANDINIZ \n"
     ]
    }
   ],
   "source": [
    "player= input(\"taş mı kağıt mı makas mı  T  K  M  :\") \n",
    "dic1 = {\"T\" : \"TAS\" , \"K\":\"KAGIT\" , \"M\" : \"MAKAS\"}\n",
    "rnd = random.choice(list(dic1.keys()))\n",
    "print(player)\n",
    "print(rnd)\n",
    "\n",
    "\n",
    "if player == \"T\" :\n",
    "    if rnd == \"T\": \n",
    "        print(\"berabere kaldınız\")\n",
    "   \n",
    "    elif rnd == \"K\":\n",
    "        print(\"KAYBETTİNİZ!!!\")\n",
    "      \n",
    "           \n",
    "    if rnd == \"M\":\n",
    "        print(\"KAZANDINIZ :) TEBRİKLER\")\n",
    "if player == \"K\" :\n",
    "    if rnd == \"T\": \n",
    "        print(\"KAZANDINIZ \")\n",
    "   \n",
    "    elif rnd == \"K\":\n",
    "        print(\"BERABERE\")\n",
    "      \n",
    "           \n",
    "    if rnd == \"M\":\n",
    "        print(\"KAYBETTİNİZ\")\n",
    "if player == \"M\" :\n",
    "    if rnd == \"T\": \n",
    "        print(\"KAYBETTİNİZ\")\n",
    "   \n",
    "    elif rnd == \"K\":\n",
    "        print(\"KAZANDINIZ\")\n",
    "      \n",
    "           \n",
    "    if rnd == \"M\":\n",
    "        print(\"BERABERE\")     \n",
    "     "
   ]
  },
  {
   "cell_type": "code",
   "execution_count": 29,
   "id": "793e5caa",
   "metadata": {},
   "outputs": [
    {
     "name": "stdout",
     "output_type": "stream",
     "text": [
      "taş mı kağıt mı makas mı  T  K  M  :T\n"
     ]
    },
    {
     "ename": "NameError",
     "evalue": "name 'keys' is not defined",
     "output_type": "error",
     "traceback": [
      "\u001b[1;31m---------------------------------------------------------------------------\u001b[0m",
      "\u001b[1;31mNameError\u001b[0m                                 Traceback (most recent call last)",
      "\u001b[1;32m~\\AppData\\Local\\Temp/ipykernel_13228/2753482371.py\u001b[0m in \u001b[0;36m<module>\u001b[1;34m\u001b[0m\n\u001b[0;32m      3\u001b[0m \u001b[0mrnd\u001b[0m \u001b[1;33m=\u001b[0m \u001b[0mrandom\u001b[0m\u001b[1;33m.\u001b[0m\u001b[0mchoice\u001b[0m\u001b[1;33m(\u001b[0m\u001b[0mlist\u001b[0m\u001b[1;33m(\u001b[0m\u001b[0mdic1\u001b[0m\u001b[1;33m.\u001b[0m\u001b[0mkeys\u001b[0m\u001b[1;33m(\u001b[0m\u001b[1;33m)\u001b[0m\u001b[1;33m)\u001b[0m\u001b[1;33m)\u001b[0m\u001b[1;33m\u001b[0m\u001b[1;33m\u001b[0m\u001b[0m\n\u001b[0;32m      4\u001b[0m \u001b[0mdic1\u001b[0m\u001b[1;33m[\u001b[0m\u001b[0mplayer\u001b[0m\u001b[1;33m]\u001b[0m\u001b[1;33m\u001b[0m\u001b[1;33m\u001b[0m\u001b[0m\n\u001b[1;32m----> 5\u001b[1;33m \u001b[0mprint\u001b[0m\u001b[1;33m(\u001b[0m\u001b[1;34m'{} : {}'\u001b[0m\u001b[1;33m.\u001b[0m\u001b[0mformat\u001b[0m\u001b[1;33m(\u001b[0m\u001b[0mkeys\u001b[0m\u001b[1;33m,\u001b[0m\u001b[0mvalues\u001b[0m\u001b[1;33m)\u001b[0m\u001b[1;33m)\u001b[0m\u001b[1;33m\u001b[0m\u001b[1;33m\u001b[0m\u001b[0m\n\u001b[0m",
      "\u001b[1;31mNameError\u001b[0m: name 'keys' is not defined"
     ]
    }
   ],
   "source": [
    "player= input(\"taş mı kağıt mı makas mı  T  K  M  :\") \n",
    "dic1 = {\"T\" : \"TAS\" , \"K\":\"KAGIT\" , \"M\" : \"MAKAS\"}\n",
    "rnd = random.choice(list(dic1.keys()))\n",
    "dic1[player]\n",
    "print('{} : {}'.format(keys,values))"
   ]
  },
  {
   "cell_type": "code",
   "execution_count": null,
   "id": "98e01851",
   "metadata": {},
   "outputs": [],
   "source": []
  }
 ],
 "metadata": {
  "kernelspec": {
   "display_name": "Python 3 (ipykernel)",
   "language": "python",
   "name": "python3"
  },
  "language_info": {
   "codemirror_mode": {
    "name": "ipython",
    "version": 3
   },
   "file_extension": ".py",
   "mimetype": "text/x-python",
   "name": "python",
   "nbconvert_exporter": "python",
   "pygments_lexer": "ipython3",
   "version": "3.9.7"
  }
 },
 "nbformat": 4,
 "nbformat_minor": 5
}
