{
 "cells": [
  {
   "cell_type": "markdown",
   "id": "6401a522",
   "metadata": {},
   "source": [
    "girilen sayıdan büyük olanı bulan"
   ]
  },
  {
   "cell_type": "code",
   "execution_count": 72,
   "id": "cee06c6a",
   "metadata": {},
   "outputs": [
    {
     "ename": "IndentationError",
     "evalue": "unexpected indent (Temp/ipykernel_2184/322325906.py, line 7)",
     "output_type": "error",
     "traceback": [
      "\u001b[1;36m  File \u001b[1;32m\"C:\\Users\\Lenovo\\AppData\\Local\\Temp/ipykernel_2184/322325906.py\"\u001b[1;36m, line \u001b[1;32m7\u001b[0m\n\u001b[1;33m    if num1 = \"q\":\u001b[0m\n\u001b[1;37m    ^\u001b[0m\n\u001b[1;31mIndentationError\u001b[0m\u001b[1;31m:\u001b[0m unexpected indent\n"
     ]
    }
   ],
   "source": [
    "def bignum():\n",
    "    i=0\n",
    "    emList = list()\n",
    "    a = list()\n",
    "    while True:\n",
    "        num1 = input(\"enter the number \\n for finnish press q :\")\n",
    "          if num1 = \"q\":\n",
    "                break\n",
    "            \n",
    "        num2 = int(num1)\n",
    "        emList.append(num2)\n",
    "        emList\n",
    "           \n",
    "              \n",
    "\n",
    "    a = emList.sort()\n",
    "    a[0]\n",
    "    return "
   ]
  },
  {
   "cell_type": "code",
   "execution_count": 70,
   "id": "9b941936",
   "metadata": {},
   "outputs": [
    {
     "name": "stdout",
     "output_type": "stream",
     "text": [
      "enter the number \n",
      " for finnish press q :5\n",
      "enter the number \n",
      " for finnish press q :9\n",
      "enter the number \n",
      " for finnish press q :41\n",
      "enter the number \n",
      " for finnish press q :-15\n",
      "enter the number \n",
      " for finnish press q :q\n"
     ]
    },
    {
     "ename": "TypeError",
     "evalue": "'NoneType' object is not subscriptable",
     "output_type": "error",
     "traceback": [
      "\u001b[1;31m---------------------------------------------------------------------------\u001b[0m",
      "\u001b[1;31mTypeError\u001b[0m                                 Traceback (most recent call last)",
      "\u001b[1;32m~\\AppData\\Local\\Temp/ipykernel_2184/1848952727.py\u001b[0m in \u001b[0;36m<module>\u001b[1;34m\u001b[0m\n\u001b[1;32m----> 1\u001b[1;33m \u001b[0mbignum\u001b[0m\u001b[1;33m(\u001b[0m\u001b[1;33m)\u001b[0m\u001b[1;33m\u001b[0m\u001b[1;33m\u001b[0m\u001b[0m\n\u001b[0m",
      "\u001b[1;32m~\\AppData\\Local\\Temp/ipykernel_2184/4217457940.py\u001b[0m in \u001b[0;36mbignum\u001b[1;34m()\u001b[0m\n\u001b[0;32m     15\u001b[0m \u001b[1;33m\u001b[0m\u001b[0m\n\u001b[0;32m     16\u001b[0m     \u001b[0ma\u001b[0m \u001b[1;33m=\u001b[0m \u001b[0memList\u001b[0m\u001b[1;33m.\u001b[0m\u001b[0msort\u001b[0m\u001b[1;33m(\u001b[0m\u001b[1;33m)\u001b[0m\u001b[1;33m\u001b[0m\u001b[1;33m\u001b[0m\u001b[0m\n\u001b[1;32m---> 17\u001b[1;33m     \u001b[0ma\u001b[0m\u001b[1;33m[\u001b[0m\u001b[1;36m0\u001b[0m\u001b[1;33m]\u001b[0m\u001b[1;33m\u001b[0m\u001b[1;33m\u001b[0m\u001b[0m\n\u001b[0m\u001b[0;32m     18\u001b[0m     \u001b[1;32mreturn\u001b[0m\u001b[1;33m\u001b[0m\u001b[1;33m\u001b[0m\u001b[0m\n",
      "\u001b[1;31mTypeError\u001b[0m: 'NoneType' object is not subscriptable"
     ]
    }
   ],
   "source": [
    "bignum()"
   ]
  },
  {
   "cell_type": "code",
   "execution_count": 79,
   "id": "735a3d1b",
   "metadata": {},
   "outputs": [
    {
     "name": "stdout",
     "output_type": "stream",
     "text": [
      "kaç adet rakam gireceksiniz :3\n",
      "enter the number \n",
      " for finnish press q :1\n",
      "enter the number \n",
      " for finnish press q :2\n",
      "enter the number \n",
      " for finnish press q :3\n",
      "None\n"
     ]
    },
    {
     "data": {
      "text/plain": [
       "3"
      ]
     },
     "execution_count": 79,
     "metadata": {},
     "output_type": "execute_result"
    }
   ],
   "source": [
    "quantity = int(input(\"kaç adet rakam gireceksiniz :\"))\n",
    "i=0\n",
    "list7 = list()\n",
    "a= list()\n",
    "for i in range(quantity):\n",
    "            num1 = int(input(\"enter the number \\n for finnish press q :\"))\n",
    "            list7.append(num1)\n",
    "            i=i+1\n",
    "list7.sort()  \n",
    "a=list7.sort()\n",
    "print(a)\n",
    "list7[-1]"
   ]
  },
  {
   "cell_type": "code",
   "execution_count": 108,
   "id": "1c167d35",
   "metadata": {},
   "outputs": [
    {
     "name": "stdout",
     "output_type": "stream",
     "text": [
      "Sayıyı Giriniz:407\n",
      "Bu Bir Armstrong Sayısı Değilidir.\n"
     ]
    }
   ],
   "source": [
    "\n",
    "x = int(input(\"Sayıyı Giriniz:\"))\n",
    "top = 0\n",
    "x = abs(x)\n",
    "n = str(x)\n",
    "for i in range(uzunluk):\n",
    "        arm = int(i) ** len(n)\n",
    "        top = top + arm\n",
    "        if x == top :\n",
    "             print(\"Bu Bir Armstrong Sayısıdır.\")\n",
    "else :\n",
    "             print(\"Bu Bir Armstrong Sayısı Değilidir.\")\n",
    "    \n",
    "\n",
    "           \n",
    "        "
   ]
  },
  {
   "cell_type": "code",
   "execution_count": 109,
   "id": "5ed72e38",
   "metadata": {},
   "outputs": [
    {
     "ename": "NameError",
     "evalue": "name 'Python' is not defined",
     "output_type": "error",
     "traceback": [
      "\u001b[1;31m---------------------------------------------------------------------------\u001b[0m",
      "\u001b[1;31mNameError\u001b[0m                                 Traceback (most recent call last)",
      "\u001b[1;32m~\\AppData\\Local\\Temp/ipykernel_2184/303350453.py\u001b[0m in \u001b[0;36m<module>\u001b[1;34m\u001b[0m\n\u001b[1;32m----> 1\u001b[1;33m \u001b[0mPython\u001b[0m\u001b[1;33m\u001b[0m\u001b[1;33m\u001b[0m\u001b[0m\n\u001b[0m\u001b[0;32m      2\u001b[0m \u001b[0msayi\u001b[0m \u001b[1;33m=\u001b[0m \u001b[0mint\u001b[0m\u001b[1;33m(\u001b[0m\u001b[0minput\u001b[0m\u001b[1;33m(\u001b[0m\u001b[1;34m\"Sayıyı Giriniz:\"\u001b[0m\u001b[1;33m)\u001b[0m\u001b[1;33m)\u001b[0m\u001b[1;33m\u001b[0m\u001b[1;33m\u001b[0m\u001b[0m\n\u001b[0;32m      3\u001b[0m \u001b[0mbasamak\u001b[0m \u001b[1;33m=\u001b[0m \u001b[0mstr\u001b[0m\u001b[1;33m(\u001b[0m\u001b[0msayi\u001b[0m\u001b[1;33m)\u001b[0m\u001b[1;33m\u001b[0m\u001b[1;33m\u001b[0m\u001b[0m\n\u001b[0;32m      4\u001b[0m \u001b[0mtoplam\u001b[0m\u001b[1;33m=\u001b[0m\u001b[1;36m0\u001b[0m\u001b[1;33m\u001b[0m\u001b[1;33m\u001b[0m\u001b[0m\n\u001b[0;32m      5\u001b[0m \u001b[1;33m\u001b[0m\u001b[0m\n",
      "\u001b[1;31mNameError\u001b[0m: name 'Python' is not defined"
     ]
    }
   ],
   "source": [
    "\n",
    "sayi = int(input(\"Sayıyı Giriniz:\"))\n",
    "basamak = str(sayi)\n",
    "toplam=0\n",
    " \n",
    "for x in basamak:\n",
    "  rakam = int(x)**len(basamak)\n",
    "  toplam += rakam\n",
    " \n",
    "if(sayi == toplam):\n",
    "  print(\"Bu Bir Armstrong Sayısıdır.\")\n",
    "else:\n",
    "  print(\"Bu bir Armstong Sayısı Degildir.\")"
   ]
  },
  {
   "cell_type": "code",
   "execution_count": null,
   "id": "14a7bb1f",
   "metadata": {},
   "outputs": [],
   "source": []
  }
 ],
 "metadata": {
  "kernelspec": {
   "display_name": "Python 3 (ipykernel)",
   "language": "python",
   "name": "python3"
  },
  "language_info": {
   "codemirror_mode": {
    "name": "ipython",
    "version": 3
   },
   "file_extension": ".py",
   "mimetype": "text/x-python",
   "name": "python",
   "nbconvert_exporter": "python",
   "pygments_lexer": "ipython3",
   "version": "3.9.7"
  }
 },
 "nbformat": 4,
 "nbformat_minor": 5
}
