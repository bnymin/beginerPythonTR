{
 "cells": [
  {
   "cell_type": "code",
   "execution_count": 3,
   "id": "6ba83f94",
   "metadata": {},
   "outputs": [],
   "source": [
    "import numpy as np\n",
    "import matplotlib.pyplot"
   ]
  },
  {
   "cell_type": "markdown",
   "id": "86a89666",
   "metadata": {},
   "source": [
    "numpy array incelemesi numpy dizileri"
   ]
  },
  {
   "cell_type": "code",
   "execution_count": 4,
   "id": "7736da37",
   "metadata": {},
   "outputs": [
    {
     "data": {
      "text/plain": [
       "array([20, 30, 40])"
      ]
     },
     "execution_count": 4,
     "metadata": {},
     "output_type": "execute_result"
    }
   ],
   "source": [
    "myList = [20,30,40]\n",
    "np.array(myList)"
   ]
  },
  {
   "cell_type": "code",
   "execution_count": 5,
   "id": "9ff1dc2a",
   "metadata": {},
   "outputs": [
    {
     "data": {
      "text/plain": [
       "array([[ 20,  30,  40],\n",
       "       [ 50,  60,  70],\n",
       "       [-10, -20, -30]])"
      ]
     },
     "execution_count": 5,
     "metadata": {},
     "output_type": "execute_result"
    }
   ],
   "source": [
    "myListMatrix = [[20,30,40],[50,60,70],[-10,-20,-30]]\n",
    "np.array(myListMatrix)"
   ]
  },
  {
   "cell_type": "code",
   "execution_count": 6,
   "id": "076612f9",
   "metadata": {},
   "outputs": [
    {
     "data": {
      "text/plain": [
       "array([0, 2, 4, 6, 8])"
      ]
     },
     "execution_count": 6,
     "metadata": {},
     "output_type": "execute_result"
    }
   ],
   "source": [
    "np.arange(0,10,2)"
   ]
  },
  {
   "cell_type": "markdown",
   "id": "b205e4a8",
   "metadata": {},
   "source": [
    "#LİNSSPACE doğrusal boşluk  iki değer arasını eşit parçalara böler"
   ]
  },
  {
   "cell_type": "code",
   "execution_count": 7,
   "id": "67fb2962",
   "metadata": {},
   "outputs": [
    {
     "data": {
      "text/plain": [
       "array([  0.        ,  11.11111111,  22.22222222,  33.33333333,\n",
       "        44.44444444,  55.55555556,  66.66666667,  77.77777778,\n",
       "        88.88888889, 100.        ])"
      ]
     },
     "execution_count": 7,
     "metadata": {},
     "output_type": "execute_result"
    }
   ],
   "source": [
    "np.linspace(0,100,10)"
   ]
  },
  {
   "cell_type": "code",
   "execution_count": 8,
   "id": "187b8b76",
   "metadata": {},
   "outputs": [
    {
     "data": {
      "text/plain": [
       "array([[1., 0., 0., 0., 0., 0., 0., 0., 0., 0.],\n",
       "       [0., 1., 0., 0., 0., 0., 0., 0., 0., 0.],\n",
       "       [0., 0., 1., 0., 0., 0., 0., 0., 0., 0.],\n",
       "       [0., 0., 0., 1., 0., 0., 0., 0., 0., 0.],\n",
       "       [0., 0., 0., 0., 1., 0., 0., 0., 0., 0.],\n",
       "       [0., 0., 0., 0., 0., 1., 0., 0., 0., 0.],\n",
       "       [0., 0., 0., 0., 0., 0., 1., 0., 0., 0.],\n",
       "       [0., 0., 0., 0., 0., 0., 0., 1., 0., 0.],\n",
       "       [0., 0., 0., 0., 0., 0., 0., 0., 1., 0.],\n",
       "       [0., 0., 0., 0., 0., 0., 0., 0., 0., 1.]])"
      ]
     },
     "execution_count": 8,
     "metadata": {},
     "output_type": "execute_result"
    }
   ],
   "source": [
    "np.eye(10)"
   ]
  },
  {
   "cell_type": "code",
   "execution_count": 9,
   "id": "5735ce96",
   "metadata": {},
   "outputs": [
    {
     "data": {
      "text/plain": [
       "array([0., 0., 0., 0., 0., 0., 0., 0., 0., 0.])"
      ]
     },
     "execution_count": 9,
     "metadata": {},
     "output_type": "execute_result"
    }
   ],
   "source": [
    "np.zeros(10)"
   ]
  },
  {
   "cell_type": "markdown",
   "id": "7f7cc105",
   "metadata": {},
   "source": [
    "#RANDOM NUMPY İÇİN\n",
    "  randn float değerlerle matrix şeklinde döndüreme yapar \n",
    "  randint int olarak tek bir array listesi şeklinde dönüş yapar"
   ]
  },
  {
   "cell_type": "code",
   "execution_count": 21,
   "id": "d4c22b3f",
   "metadata": {},
   "outputs": [
    {
     "data": {
      "text/plain": [
       "array([[-1.96394748, -0.52171156, -1.47409258, -0.56563597, -0.28584368],\n",
       "       [-2.14466826, -1.38242492, -0.81938644,  0.29294296,  0.1648735 ],\n",
       "       [ 0.33106063, -0.01344608, -0.04240439,  0.29420723, -1.17275583],\n",
       "       [ 0.1110968 ,  1.44577021,  0.40630584,  0.30632086, -0.31640512],\n",
       "       [-0.59514288, -0.24337368,  0.60048541, -0.77306639, -0.5018579 ],\n",
       "       [-0.85872272, -0.68611004, -0.95131304, -0.48606372,  0.18243503],\n",
       "       [ 0.41607983, -1.74309376, -0.74751848,  1.22463104, -1.58509968],\n",
       "       [ 0.01140804, -0.61984987, -0.38835264, -0.35704792,  1.05881468],\n",
       "       [ 0.18015377,  0.18302264, -0.05832326, -1.1103038 ,  0.41661674],\n",
       "       [-0.52926206, -0.25882967, -1.19221666,  1.10128671, -1.33579229]])"
      ]
     },
     "execution_count": 21,
     "metadata": {},
     "output_type": "execute_result"
    }
   ],
   "source": [
    "np.random.randn(10,5)"
   ]
  },
  {
   "cell_type": "code",
   "execution_count": 11,
   "id": "534006cf",
   "metadata": {},
   "outputs": [
    {
     "data": {
      "text/plain": [
       "array([[[-1.8502924 ,  0.29279165, -1.89207671,  1.07483623,\n",
       "         -0.59371543],\n",
       "        [ 0.24609735,  0.91355284,  0.62838888, -0.65214592,\n",
       "         -1.21448135],\n",
       "        [ 0.47585184,  0.83201775,  0.89820632, -1.42255103,\n",
       "         -1.12390809],\n",
       "        [-0.2872434 , -0.60263574,  0.02115004,  2.34705695,\n",
       "          0.60583941],\n",
       "        [-1.32904831, -0.60793209, -0.02085286,  0.76752421,\n",
       "          0.43951598],\n",
       "        [-1.04921982, -1.20380783, -0.30165172, -1.93669474,\n",
       "         -1.33794935],\n",
       "        [ 1.72514848,  0.19757214, -1.28894861,  0.17726326,\n",
       "          1.70385226],\n",
       "        [-0.46577485,  1.08889865,  0.74994914,  0.17909288,\n",
       "         -0.01435017],\n",
       "        [-0.56744907,  0.03418786,  0.10043451, -0.11358805,\n",
       "         -1.32323869],\n",
       "        [ 0.19970205,  0.3120871 ,  0.57169236,  0.4962158 ,\n",
       "          0.78457076],\n",
       "        [ 0.4963094 ,  0.11713446, -2.16172881, -1.37204721,\n",
       "          1.63615893],\n",
       "        [-0.11924028,  0.44841751,  1.13911417,  0.05153713,\n",
       "          0.12088216],\n",
       "        [ 0.09128695,  0.99960407, -0.39622239, -0.43440112,\n",
       "         -0.03510589],\n",
       "        [-1.55561681, -0.62597772, -0.55777662, -1.00971127,\n",
       "          1.07825143],\n",
       "        [ 1.40902086,  0.02225632, -0.47281017, -0.62619653,\n",
       "          0.82321787],\n",
       "        [-0.72202839,  1.09695809,  0.63859357,  1.42136794,\n",
       "          0.10177093],\n",
       "        [-2.30629906, -0.52781295,  0.4337995 ,  0.1060673 ,\n",
       "         -1.26302607],\n",
       "        [-0.52520271,  1.07675328, -0.22840322,  0.41637277,\n",
       "         -0.78268018],\n",
       "        [ 0.68377774, -1.3222921 , -0.26003826,  0.22193877,\n",
       "         -1.74138806],\n",
       "        [-0.10324083, -1.30011914, -0.41095393,  1.61107755,\n",
       "         -1.43731645],\n",
       "        [ 0.84180415,  1.43530772,  0.5293984 ,  0.61437542,\n",
       "          0.28558114],\n",
       "        [-0.78234848,  0.88092321, -1.42287144,  0.83586927,\n",
       "         -2.12071245],\n",
       "        [ 0.55293163, -2.02247102, -0.66733539, -0.74243918,\n",
       "          0.87121602],\n",
       "        [-0.66229808,  0.31630997, -0.57041263,  0.01123146,\n",
       "         -0.6614917 ],\n",
       "        [ 1.02680965,  0.5756932 ,  0.140128  ,  0.12665914,\n",
       "          1.72599837]]])"
      ]
     },
     "execution_count": 11,
     "metadata": {},
     "output_type": "execute_result"
    }
   ],
   "source": [
    "myRndArray = np.random.randn(1,25,5)\n",
    "myRndArray"
   ]
  },
  {
   "cell_type": "code",
   "execution_count": 13,
   "id": "bc6b85b2",
   "metadata": {},
   "outputs": [
    {
     "data": {
      "text/plain": [
       "array([ 0,  1,  2,  3,  4,  5,  6,  7,  8,  9, 10, 11, 12, 13, 14, 15, 16,\n",
       "       17, 18, 19, 20, 21, 22, 23, 24, 25, 26, 27, 28, 29])"
      ]
     },
     "execution_count": 13,
     "metadata": {},
     "output_type": "execute_result"
    }
   ],
   "source": [
    "myNpArray = np.arange(30)\n",
    "myNpArray"
   ]
  },
  {
   "cell_type": "code",
   "execution_count": 15,
   "id": "483fefb9",
   "metadata": {},
   "outputs": [
    {
     "data": {
      "text/plain": [
       "array([[ 0,  1,  2,  3,  4,  5],\n",
       "       [ 6,  7,  8,  9, 10, 11],\n",
       "       [12, 13, 14, 15, 16, 17],\n",
       "       [18, 19, 20, 21, 22, 23],\n",
       "       [24, 25, 26, 27, 28, 29]])"
      ]
     },
     "execution_count": 15,
     "metadata": {},
     "output_type": "execute_result"
    }
   ],
   "source": [
    "myNpArray.reshape(5,6)"
   ]
  },
  {
   "cell_type": "code",
   "execution_count": 28,
   "id": "500e2996",
   "metadata": {},
   "outputs": [
    {
     "data": {
      "text/plain": [
       "array([ 77,  18,  63,  79,  98,  64,  94,   2,  93,   5, 135,  76,  29,\n",
       "       139,  25,  21,  69,  53,  62,  49,  77,  87,  70,  73, 139,  50,\n",
       "        79,  58,  70,  11, 116,  21,  20, 119,  80,  84,  64,  34,  12,\n",
       "       110,   3,  25,  99,  92,  51, 103,  43, 102,  58,   6])"
      ]
     },
     "execution_count": 28,
     "metadata": {},
     "output_type": "execute_result"
    }
   ],
   "source": [
    "myNewRndArry = np.random.randint(2,140,50)\n",
    "myNewRndArry\n"
   ]
  },
  {
   "cell_type": "code",
   "execution_count": 26,
   "id": "0b643810",
   "metadata": {},
   "outputs": [
    {
     "data": {
      "text/plain": [
       "137"
      ]
     },
     "execution_count": 26,
     "metadata": {},
     "output_type": "execute_result"
    }
   ],
   "source": [
    "myNewRndArry.max()"
   ]
  },
  {
   "cell_type": "code",
   "execution_count": 31,
   "id": "745e4102",
   "metadata": {},
   "outputs": [
    {
     "data": {
      "text/plain": [
       "array([79, 98])"
      ]
     },
     "execution_count": 31,
     "metadata": {},
     "output_type": "execute_result"
    }
   ],
   "source": [
    "myNewRndArry[3 : 5]"
   ]
  },
  {
   "cell_type": "code",
   "execution_count": 44,
   "id": "8ef3368f",
   "metadata": {},
   "outputs": [],
   "source": [
    "myNewList1 = list(range(1,15,2))"
   ]
  },
  {
   "cell_type": "code",
   "execution_count": 47,
   "id": "3720448a",
   "metadata": {},
   "outputs": [
    {
     "ename": "TypeError",
     "evalue": "can only assign an iterable",
     "output_type": "error",
     "traceback": [
      "\u001b[1;31m---------------------------------------------------------------------------\u001b[0m",
      "\u001b[1;31mTypeError\u001b[0m                                 Traceback (most recent call last)",
      "\u001b[1;32m~\\AppData\\Local\\Temp/ipykernel_3760/230230641.py\u001b[0m in \u001b[0;36m<module>\u001b[1;34m\u001b[0m\n\u001b[1;32m----> 1\u001b[1;33m \u001b[0mmyNewList1\u001b[0m\u001b[1;33m[\u001b[0m\u001b[1;36m3\u001b[0m\u001b[1;33m:\u001b[0m\u001b[1;36m8\u001b[0m\u001b[1;33m]\u001b[0m \u001b[1;33m=\u001b[0m \u001b[1;33m-\u001b[0m\u001b[1;36m5\u001b[0m\u001b[1;33m\u001b[0m\u001b[1;33m\u001b[0m\u001b[0m\n\u001b[0m",
      "\u001b[1;31mTypeError\u001b[0m: can only assign an iterable"
     ]
    }
   ],
   "source": [
    "myNewList1[3:8] = -5"
   ]
  },
  {
   "cell_type": "code",
   "execution_count": 49,
   "id": "eaef1788",
   "metadata": {},
   "outputs": [],
   "source": [
    "newNpArray = np.arange(0,24)"
   ]
  },
  {
   "cell_type": "code",
   "execution_count": 52,
   "id": "57f0935c",
   "metadata": {},
   "outputs": [
    {
     "data": {
      "text/plain": [
       "array([12, 13, 14, 15, 16, 17, 18])"
      ]
     },
     "execution_count": 52,
     "metadata": {},
     "output_type": "execute_result"
    }
   ],
   "source": [
    "slicing = newNpArray[12:19]\n",
    "slicing"
   ]
  },
  {
   "cell_type": "code",
   "execution_count": 53,
   "id": "7963bd1a",
   "metadata": {},
   "outputs": [],
   "source": [
    "slicing[:]=700"
   ]
  },
  {
   "cell_type": "code",
   "execution_count": 54,
   "id": "0cfcb5c0",
   "metadata": {},
   "outputs": [
    {
     "data": {
      "text/plain": [
       "array([700, 700, 700, 700, 700, 700, 700])"
      ]
     },
     "execution_count": 54,
     "metadata": {},
     "output_type": "execute_result"
    }
   ],
   "source": [
    "slicing"
   ]
  },
  {
   "cell_type": "code",
   "execution_count": 55,
   "id": "0e9ccd4c",
   "metadata": {},
   "outputs": [
    {
     "data": {
      "text/plain": [
       "array([  0,   1,   2,   3,   4,   5,   6,   7,   8,   9,  10,  11, 700,\n",
       "       700, 700, 700, 700, 700, 700,  19,  20,  21,  22,  23])"
      ]
     },
     "execution_count": 55,
     "metadata": {},
     "output_type": "execute_result"
    }
   ],
   "source": [
    "newNpArray"
   ]
  },
  {
   "cell_type": "code",
   "execution_count": 78,
   "id": "e0d86318",
   "metadata": {},
   "outputs": [],
   "source": [
    "newNpArray2 = np.arange(25,50,2)"
   ]
  },
  {
   "cell_type": "code",
   "execution_count": 79,
   "id": "275251f7",
   "metadata": {},
   "outputs": [],
   "source": [
    "newNpArray3 =newNpArray2.copy()"
   ]
  },
  {
   "cell_type": "code",
   "execution_count": 83,
   "id": "c0a14a9a",
   "metadata": {},
   "outputs": [],
   "source": [
    "slicing1=newNpArray3[7:12]"
   ]
  },
  {
   "cell_type": "code",
   "execution_count": 87,
   "id": "53d68491",
   "metadata": {},
   "outputs": [],
   "source": [
    "slicing1[:]=800\n"
   ]
  },
  {
   "cell_type": "code",
   "execution_count": 88,
   "id": "37052745",
   "metadata": {},
   "outputs": [
    {
     "data": {
      "text/plain": [
       "array([ 25,  27,  29,  31,  33,  35,  37, 800, 800, 800, 800, 800, 700])"
      ]
     },
     "execution_count": 88,
     "metadata": {},
     "output_type": "execute_result"
    }
   ],
   "source": [
    "newNpArray3\n"
   ]
  },
  {
   "cell_type": "code",
   "execution_count": 89,
   "id": "b05bc5a6",
   "metadata": {},
   "outputs": [
    {
     "data": {
      "text/plain": [
       "array([25, 27, 29, 31, 33, 35, 37, 39, 41, 43, 45, 47, 49])"
      ]
     },
     "execution_count": 89,
     "metadata": {},
     "output_type": "execute_result"
    }
   ],
   "source": [
    "newNpArray2"
   ]
  },
  {
   "cell_type": "markdown",
   "id": "5728b790",
   "metadata": {},
   "source": [
    "# MATRİXLER İLE İŞLEME"
   ]
  },
  {
   "cell_type": "code",
   "execution_count": 90,
   "id": "9c48d703",
   "metadata": {},
   "outputs": [],
   "source": [
    "myNewRndArryMatrix = np.random.randint(2,140,20)"
   ]
  },
  {
   "cell_type": "code",
   "execution_count": 91,
   "id": "85446548",
   "metadata": {},
   "outputs": [
    {
     "data": {
      "text/plain": [
       "array([[ 51,  90,  34,  47,  55],\n",
       "       [ 61,  91, 115,  51,   8],\n",
       "       [ 92,  13,  25, 119,  67],\n",
       "       [101,  88,  77,  95,  35]])"
      ]
     },
     "execution_count": 91,
     "metadata": {},
     "output_type": "execute_result"
    }
   ],
   "source": [
    "myNewRndArryMatrix.reshape(4,5)"
   ]
  },
  {
   "cell_type": "code",
   "execution_count": 101,
   "id": "ff68982a",
   "metadata": {},
   "outputs": [],
   "source": [
    "newListMatrix = list(range(2,50,3))"
   ]
  },
  {
   "cell_type": "code",
   "execution_count": 102,
   "id": "f04f1b0f",
   "metadata": {},
   "outputs": [
    {
     "data": {
      "text/plain": [
       "16"
      ]
     },
     "execution_count": 102,
     "metadata": {},
     "output_type": "execute_result"
    }
   ],
   "source": [
    "len(newListMatrix)"
   ]
  },
  {
   "cell_type": "code",
   "execution_count": 103,
   "id": "84b8acf0",
   "metadata": {},
   "outputs": [],
   "source": [
    "myNewListToMatrix = np.array(newListMatrix)"
   ]
  },
  {
   "cell_type": "code",
   "execution_count": 115,
   "id": "f4debfe2",
   "metadata": {},
   "outputs": [
    {
     "data": {
      "text/plain": [
       "array([[ 2,  5,  8, 11],\n",
       "       [14, 17, 20, 23],\n",
       "       [26, 29, 32, 35],\n",
       "       [38, 41, 44, 47]])"
      ]
     },
     "execution_count": 115,
     "metadata": {},
     "output_type": "execute_result"
    }
   ],
   "source": [
    "my =myNewListToMatrix.reshape(4,4)\n",
    "my"
   ]
  },
  {
   "cell_type": "code",
   "execution_count": 116,
   "id": "3b8278d4",
   "metadata": {},
   "outputs": [
    {
     "data": {
      "text/plain": [
       "8"
      ]
     },
     "execution_count": 116,
     "metadata": {},
     "output_type": "execute_result"
    }
   ],
   "source": [
    "my[0][2]"
   ]
  },
  {
   "cell_type": "code",
   "execution_count": 117,
   "id": "17b4d7d6",
   "metadata": {},
   "outputs": [
    {
     "data": {
      "text/plain": [
       "8"
      ]
     },
     "execution_count": 117,
     "metadata": {},
     "output_type": "execute_result"
    }
   ],
   "source": [
    "my[0,2]"
   ]
  },
  {
   "cell_type": "code",
   "execution_count": 124,
   "id": "646c7561",
   "metadata": {},
   "outputs": [
    {
     "data": {
      "text/plain": [
       "array([35, 47])"
      ]
     },
     "execution_count": 124,
     "metadata": {},
     "output_type": "execute_result"
    }
   ],
   "source": [
    "my[2:,3]"
   ]
  },
  {
   "cell_type": "code",
   "execution_count": 125,
   "id": "326e04a6",
   "metadata": {},
   "outputs": [
    {
     "data": {
      "text/plain": [
       "array([[ 2,  5,  8, 11],\n",
       "       [14, 17, 20, 23]])"
      ]
     },
     "execution_count": 125,
     "metadata": {},
     "output_type": "execute_result"
    }
   ],
   "source": [
    "my[[0,1]]"
   ]
  },
  {
   "cell_type": "code",
   "execution_count": null,
   "id": "5195ef68",
   "metadata": {},
   "outputs": [],
   "source": []
  }
 ],
 "metadata": {
  "kernelspec": {
   "display_name": "Python 3 (ipykernel)",
   "language": "python",
   "name": "python3"
  },
  "language_info": {
   "codemirror_mode": {
    "name": "ipython",
    "version": 3
   },
   "file_extension": ".py",
   "mimetype": "text/x-python",
   "name": "python",
   "nbconvert_exporter": "python",
   "pygments_lexer": "ipython3",
   "version": "3.9.7"
  }
 },
 "nbformat": 4,
 "nbformat_minor": 5
}
