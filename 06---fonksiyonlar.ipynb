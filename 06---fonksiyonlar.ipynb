{
 "cells": [
  {
   "cell_type": "code",
   "execution_count": 1,
   "id": "b6aa6200",
   "metadata": {},
   "outputs": [],
   "source": [
    "def sum1(a,b):\n",
    "    c=a+b\n",
    "    return(c)\n"
   ]
  },
  {
   "cell_type": "code",
   "execution_count": 2,
   "id": "a15db2b2",
   "metadata": {},
   "outputs": [
    {
     "data": {
      "text/plain": [
       "11"
      ]
     },
     "execution_count": 2,
     "metadata": {},
     "output_type": "execute_result"
    }
   ],
   "source": [
    "sum1(5,6)"
   ]
  },
  {
   "cell_type": "markdown",
   "id": "980ea430",
   "metadata": {},
   "source": [
    "#USE TO ARGS AND KWARGS "
   ]
  },
  {
   "cell_type": "code",
   "execution_count": 3,
   "id": "2fdcc3a1",
   "metadata": {},
   "outputs": [],
   "source": [
    "def newarg(*args) : \n",
    "    return sum(args)"
   ]
  },
  {
   "cell_type": "code",
   "execution_count": 4,
   "id": "93bca0d7",
   "metadata": {},
   "outputs": [
    {
     "data": {
      "text/plain": [
       "36"
      ]
     },
     "execution_count": 4,
     "metadata": {},
     "output_type": "execute_result"
    }
   ],
   "source": [
    "newarg(5,-49,80)"
   ]
  },
  {
   "cell_type": "markdown",
   "id": "d07d6a6c",
   "metadata": {},
   "source": [
    " tek yıldız args istediğimiz kadar değeri fonksiyonun içine koymamıza yarar\n",
    " çift yıldız kwargs dictinorry şeklide (sözlük) anahhatar kelime eşleşmesi yapar \n",
    " "
   ]
  },
  {
   "cell_type": "code",
   "execution_count": 5,
   "id": "79442833",
   "metadata": {},
   "outputs": [],
   "source": [
    "def newKwars(**kwargs) : \n",
    "    return kwargs"
   ]
  },
  {
   "cell_type": "code",
   "execution_count": 9,
   "id": "b0cbeac3",
   "metadata": {},
   "outputs": [
    {
     "data": {
      "text/plain": [
       "{'kemal': 180, 'bünyamin': 185, 'fatih': 178}"
      ]
     },
     "execution_count": 9,
     "metadata": {},
     "output_type": "execute_result"
    }
   ],
   "source": [
    "newKwars(kemal= 180 , bünyamin = 185 , fatih  =178)"
   ]
  },
  {
   "cell_type": "code",
   "execution_count": 10,
   "id": "445233de",
   "metadata": {},
   "outputs": [],
   "source": [
    "list1 = list(range(0,10))\n"
   ]
  },
  {
   "cell_type": "code",
   "execution_count": 13,
   "id": "1d60b194",
   "metadata": {},
   "outputs": [],
   "source": [
    "def bolm():\n",
    "    for i in list1:\n",
    "        result = x/2\n",
    "    return result"
   ]
  },
  {
   "cell_type": "code",
   "execution_count": 19,
   "id": "51c2b50b",
   "metadata": {},
   "outputs": [
    {
     "data": {
      "text/plain": [
       "5.0"
      ]
     },
     "execution_count": 19,
     "metadata": {},
     "output_type": "execute_result"
    }
   ],
   "source": [
    "bolm(10)"
   ]
  },
  {
   "cell_type": "code",
   "execution_count": 22,
   "id": "648ce748",
   "metadata": {},
   "outputs": [
    {
     "data": {
      "text/plain": [
       "[0.0, 0.5, 1.0, 1.5, 2.0, 2.5, 3.0, 3.5, 4.0, 4.5, 5.0]"
      ]
     },
     "execution_count": 22,
     "metadata": {},
     "output_type": "execute_result"
    }
   ],
   "source": [
    "list1 = list(range(0,11))\n",
    "list2 = list()\n",
    "for i in list1:\n",
    "    result = i/2\n",
    "    list2.append(result)\n",
    "list2"
   ]
  },
  {
   "cell_type": "markdown",
   "id": "819c421c",
   "metadata": {},
   "source": [
    "# MAP KULLANIMI"
   ]
  },
  {
   "cell_type": "code",
   "execution_count": 24,
   "id": "2a925a48",
   "metadata": {},
   "outputs": [
    {
     "data": {
      "text/plain": [
       "[0.0, 0.5, 1.0, 1.5, 2.0, 2.5, 3.0, 3.5, 4.0, 4.5, 5.0]"
      ]
     },
     "execution_count": 24,
     "metadata": {},
     "output_type": "execute_result"
    }
   ],
   "source": [
    "list(map(bolm,list1))"
   ]
  },
  {
   "cell_type": "code",
   "execution_count": 27,
   "id": "9cde452f",
   "metadata": {},
   "outputs": [
    {
     "data": {
      "text/plain": [
       "[True, False, False, False]"
      ]
     },
     "execution_count": 27,
     "metadata": {},
     "output_type": "execute_result"
    }
   ],
   "source": [
    "list4= [\"ali \",\"kemal\",\"tarık\",\"ferhat\"]\n",
    "def chekfunction(string):\n",
    "    return \"ali\" in string\n",
    "list(map(chekfunction,list4))"
   ]
  },
  {
   "cell_type": "markdown",
   "id": "260fe9b5",
   "metadata": {},
   "source": [
    "#  FİLTER KULANIMI"
   ]
  },
  {
   "cell_type": "code",
   "execution_count": 35,
   "id": "c14c9ad4",
   "metadata": {},
   "outputs": [
    {
     "data": {
      "text/plain": [
       "['ali ']"
      ]
     },
     "execution_count": 35,
     "metadata": {},
     "output_type": "execute_result"
    }
   ],
   "source": [
    "list4= [\"ali \",\"kemal\",\"tarık\",\"ferhat\"]\n",
    "list(filter(chekfunction,list4))"
   ]
  },
  {
   "cell_type": "markdown",
   "id": "35136d46",
   "metadata": {},
   "source": [
    "map buulian olarak deöndürürken \n",
    "filter aradağımız kelimerleri döndürür"
   ]
  },
  {
   "cell_type": "markdown",
   "id": "a6697d22",
   "metadata": {},
   "source": [
    "# LAMDA "
   ]
  },
  {
   "cell_type": "code",
   "execution_count": null,
   "id": "317cc948",
   "metadata": {},
   "outputs": [],
   "source": [
    "CAR"
   ]
  },
  {
   "cell_type": "code",
   "execution_count": null,
   "id": "2826d133",
   "metadata": {},
   "outputs": [],
   "source": []
  }
 ],
 "metadata": {
  "kernelspec": {
   "display_name": "Python 3 (ipykernel)",
   "language": "python",
   "name": "python3"
  },
  "language_info": {
   "codemirror_mode": {
    "name": "ipython",
    "version": 3
   },
   "file_extension": ".py",
   "mimetype": "text/x-python",
   "name": "python",
   "nbconvert_exporter": "python",
   "pygments_lexer": "ipython3",
   "version": "3.9.7"
  }
 },
 "nbformat": 4,
 "nbformat_minor": 5
}
